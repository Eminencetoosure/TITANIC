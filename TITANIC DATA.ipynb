{
 "cells": [
  {
   "cell_type": "code",
   "execution_count": 362,
   "metadata": {},
   "outputs": [],
   "source": [
    "import numpy as np\n",
    "import pandas as pd\n",
    "import seaborn as sns\n",
    "import matplotlib.pyplot as plt\n",
    "import sklearn "
   ]
  },
  {
   "cell_type": "markdown",
   "metadata": {},
   "source": [
    "* TRAINING DATA & TESTING DATA"
   ]
  },
  {
   "cell_type": "code",
   "execution_count": 363,
   "metadata": {},
   "outputs": [],
   "source": [
    "df_train = pd.read_csv(\"titanictrain.csv\",delimiter=\",\")\n",
    "df_test = pd.read_csv(\"titanictest.csv\", delimiter=\",\")"
   ]
  },
  {
   "cell_type": "markdown",
   "metadata": {},
   "source": [
    "* DATA OVERVIEW"
   ]
  },
  {
   "cell_type": "code",
   "execution_count": 364,
   "metadata": {},
   "outputs": [
    {
     "name": "stdout",
     "output_type": "stream",
     "text": [
      "<class 'pandas.core.frame.DataFrame'>\n",
      "RangeIndex: 891 entries, 0 to 890\n",
      "Data columns (total 12 columns):\n",
      "PassengerId    891 non-null int64\n",
      "Survived       891 non-null int64\n",
      "Pclass         891 non-null int64\n",
      "Name           891 non-null object\n",
      "Sex            891 non-null object\n",
      "Age            714 non-null float64\n",
      "SibSp          891 non-null int64\n",
      "Parch          891 non-null int64\n",
      "Ticket         891 non-null object\n",
      "Fare           891 non-null float64\n",
      "Cabin          204 non-null object\n",
      "Embarked       889 non-null object\n",
      "dtypes: float64(2), int64(5), object(5)\n",
      "memory usage: 83.7+ KB\n"
     ]
    }
   ],
   "source": [
    "df_train.info()"
   ]
  },
  {
   "cell_type": "code",
   "execution_count": 365,
   "metadata": {},
   "outputs": [
    {
     "data": {
      "text/plain": [
       "PassengerId      0\n",
       "Survived         0\n",
       "Pclass           0\n",
       "Name             0\n",
       "Sex              0\n",
       "Age            177\n",
       "SibSp            0\n",
       "Parch            0\n",
       "Ticket           0\n",
       "Fare             0\n",
       "Cabin          687\n",
       "Embarked         2\n",
       "dtype: int64"
      ]
     },
     "execution_count": 365,
     "metadata": {},
     "output_type": "execute_result"
    }
   ],
   "source": [
    "df_train.isnull().sum()"
   ]
  },
  {
   "cell_type": "code",
   "execution_count": 366,
   "metadata": {},
   "outputs": [],
   "source": [
    "df_train.Age.fillna(df_train.Age.mean(),inplace=True)"
   ]
  },
  {
   "cell_type": "code",
   "execution_count": 367,
   "metadata": {},
   "outputs": [
    {
     "data": {
      "text/plain": [
       "array([22.        , 38.        , 26.        , 35.        , 29.69911765,\n",
       "       54.        ,  2.        , 27.        , 14.        ,  4.        ,\n",
       "       58.        , 20.        , 39.        , 55.        , 31.        ,\n",
       "       34.        , 15.        , 28.        ,  8.        , 19.        ,\n",
       "       40.        , 66.        , 42.        , 21.        , 18.        ,\n",
       "        3.        ,  7.        , 49.        , 29.        , 65.        ,\n",
       "       28.5       ,  5.        , 11.        , 45.        , 17.        ,\n",
       "       32.        , 16.        , 25.        ,  0.83      , 30.        ,\n",
       "       33.        , 23.        , 24.        , 46.        , 59.        ,\n",
       "       71.        , 37.        , 47.        , 14.5       , 70.5       ,\n",
       "       32.5       , 12.        ,  9.        , 36.5       , 51.        ,\n",
       "       55.5       , 40.5       , 44.        ,  1.        , 61.        ,\n",
       "       56.        , 50.        , 36.        , 45.5       , 20.5       ,\n",
       "       62.        , 41.        , 52.        , 63.        , 23.5       ,\n",
       "        0.92      , 43.        , 60.        , 10.        , 64.        ,\n",
       "       13.        , 48.        ,  0.75      , 53.        , 57.        ,\n",
       "       80.        , 70.        , 24.5       ,  6.        ,  0.67      ,\n",
       "       30.5       ,  0.42      , 34.5       , 74.        ])"
      ]
     },
     "execution_count": 367,
     "metadata": {},
     "output_type": "execute_result"
    }
   ],
   "source": [
    "df_train.Age.unique()"
   ]
  },
  {
   "cell_type": "code",
   "execution_count": 368,
   "metadata": {},
   "outputs": [
    {
     "data": {
      "text/plain": [
       "dtype('int32')"
      ]
     },
     "execution_count": 368,
     "metadata": {},
     "output_type": "execute_result"
    }
   ],
   "source": [
    "df_train[\"Age\"] = df_train.Age.astype(int)\n",
    "df_train[\"Age\"].dtype"
   ]
  },
  {
   "cell_type": "markdown",
   "metadata": {},
   "source": [
    "* Cabin"
   ]
  },
  {
   "cell_type": "code",
   "execution_count": 369,
   "metadata": {},
   "outputs": [
    {
     "data": {
      "text/plain": [
       "array([nan, 'C85', 'C123', 'E46', 'G6', 'C103', 'D56', 'A6',\n",
       "       'C23 C25 C27', 'B78', 'D33', 'B30', 'C52', 'B28', 'C83', 'F33',\n",
       "       'F G73', 'E31', 'A5', 'D10 D12', 'D26', 'C110', 'B58 B60', 'E101',\n",
       "       'F E69', 'D47', 'B86', 'F2', 'C2', 'E33', 'B19', 'A7', 'C49', 'F4',\n",
       "       'A32', 'B4', 'B80', 'A31', 'D36', 'D15', 'C93', 'C78', 'D35',\n",
       "       'C87', 'B77', 'E67', 'B94', 'C125', 'C99', 'C118', 'D7', 'A19',\n",
       "       'B49', 'D', 'C22 C26', 'C106', 'C65', 'E36', 'C54',\n",
       "       'B57 B59 B63 B66', 'C7', 'E34', 'C32', 'B18', 'C124', 'C91', 'E40',\n",
       "       'T', 'C128', 'D37', 'B35', 'E50', 'C82', 'B96 B98', 'E10', 'E44',\n",
       "       'A34', 'C104', 'C111', 'C92', 'E38', 'D21', 'E12', 'E63', 'A14',\n",
       "       'B37', 'C30', 'D20', 'B79', 'E25', 'D46', 'B73', 'C95', 'B38',\n",
       "       'B39', 'B22', 'C86', 'C70', 'A16', 'C101', 'C68', 'A10', 'E68',\n",
       "       'B41', 'A20', 'D19', 'D50', 'D9', 'A23', 'B50', 'A26', 'D48',\n",
       "       'E58', 'C126', 'B71', 'B51 B53 B55', 'D49', 'B5', 'B20', 'F G63',\n",
       "       'C62 C64', 'E24', 'C90', 'C45', 'E8', 'B101', 'D45', 'C46', 'D30',\n",
       "       'E121', 'D11', 'E77', 'F38', 'B3', 'D6', 'B82 B84', 'D17', 'A36',\n",
       "       'B102', 'B69', 'E49', 'C47', 'D28', 'E17', 'A24', 'C50', 'B42',\n",
       "       'C148'], dtype=object)"
      ]
     },
     "execution_count": 369,
     "metadata": {},
     "output_type": "execute_result"
    }
   ],
   "source": [
    "df_train.Cabin.unique() "
   ]
  },
  {
   "cell_type": "code",
   "execution_count": 370,
   "metadata": {},
   "outputs": [],
   "source": [
    "df_train.Cabin.fillna(df_train.Cabin.value_counts().idxmax(),inplace=True)"
   ]
  },
  {
   "cell_type": "code",
   "execution_count": 371,
   "metadata": {},
   "outputs": [
    {
     "data": {
      "text/plain": [
       "array(['B96 B98', 'C85', 'C123', 'E46', 'G6', 'C103', 'D56', 'A6',\n",
       "       'C23 C25 C27', 'B78', 'D33', 'B30', 'C52', 'B28', 'C83', 'F33',\n",
       "       'F G73', 'E31', 'A5', 'D10 D12', 'D26', 'C110', 'B58 B60', 'E101',\n",
       "       'F E69', 'D47', 'B86', 'F2', 'C2', 'E33', 'B19', 'A7', 'C49', 'F4',\n",
       "       'A32', 'B4', 'B80', 'A31', 'D36', 'D15', 'C93', 'C78', 'D35',\n",
       "       'C87', 'B77', 'E67', 'B94', 'C125', 'C99', 'C118', 'D7', 'A19',\n",
       "       'B49', 'D', 'C22 C26', 'C106', 'C65', 'E36', 'C54',\n",
       "       'B57 B59 B63 B66', 'C7', 'E34', 'C32', 'B18', 'C124', 'C91', 'E40',\n",
       "       'T', 'C128', 'D37', 'B35', 'E50', 'C82', 'E10', 'E44', 'A34',\n",
       "       'C104', 'C111', 'C92', 'E38', 'D21', 'E12', 'E63', 'A14', 'B37',\n",
       "       'C30', 'D20', 'B79', 'E25', 'D46', 'B73', 'C95', 'B38', 'B39',\n",
       "       'B22', 'C86', 'C70', 'A16', 'C101', 'C68', 'A10', 'E68', 'B41',\n",
       "       'A20', 'D19', 'D50', 'D9', 'A23', 'B50', 'A26', 'D48', 'E58',\n",
       "       'C126', 'B71', 'B51 B53 B55', 'D49', 'B5', 'B20', 'F G63',\n",
       "       'C62 C64', 'E24', 'C90', 'C45', 'E8', 'B101', 'D45', 'C46', 'D30',\n",
       "       'E121', 'D11', 'E77', 'F38', 'B3', 'D6', 'B82 B84', 'D17', 'A36',\n",
       "       'B102', 'B69', 'E49', 'C47', 'D28', 'E17', 'A24', 'C50', 'B42',\n",
       "       'C148'], dtype=object)"
      ]
     },
     "execution_count": 371,
     "metadata": {},
     "output_type": "execute_result"
    }
   ],
   "source": [
    "df_train.Cabin.unique()"
   ]
  },
  {
   "cell_type": "markdown",
   "metadata": {},
   "source": [
    "* Embarked"
   ]
  },
  {
   "cell_type": "code",
   "execution_count": 372,
   "metadata": {},
   "outputs": [
    {
     "data": {
      "text/plain": [
       "array(['S', 'C', 'Q', nan], dtype=object)"
      ]
     },
     "execution_count": 372,
     "metadata": {},
     "output_type": "execute_result"
    }
   ],
   "source": [
    "df_train.Embarked.unique()"
   ]
  },
  {
   "cell_type": "code",
   "execution_count": 373,
   "metadata": {},
   "outputs": [],
   "source": [
    "df_train.Embarked.fillna(df_train.Embarked.value_counts().idxmax(),inplace=True)"
   ]
  },
  {
   "cell_type": "code",
   "execution_count": 374,
   "metadata": {},
   "outputs": [
    {
     "data": {
      "text/plain": [
       "array(['S', 'C', 'Q'], dtype=object)"
      ]
     },
     "execution_count": 374,
     "metadata": {},
     "output_type": "execute_result"
    }
   ],
   "source": [
    "df_train.Embarked.unique()"
   ]
  },
  {
   "cell_type": "code",
   "execution_count": 375,
   "metadata": {},
   "outputs": [
    {
     "name": "stdout",
     "output_type": "stream",
     "text": [
      "<class 'pandas.core.frame.DataFrame'>\n",
      "RangeIndex: 891 entries, 0 to 890\n",
      "Data columns (total 12 columns):\n",
      "PassengerId    891 non-null int64\n",
      "Survived       891 non-null int64\n",
      "Pclass         891 non-null int64\n",
      "Name           891 non-null object\n",
      "Sex            891 non-null object\n",
      "Age            891 non-null int32\n",
      "SibSp          891 non-null int64\n",
      "Parch          891 non-null int64\n",
      "Ticket         891 non-null object\n",
      "Fare           891 non-null float64\n",
      "Cabin          891 non-null object\n",
      "Embarked       891 non-null object\n",
      "dtypes: float64(1), int32(1), int64(5), object(5)\n",
      "memory usage: 80.2+ KB\n"
     ]
    }
   ],
   "source": [
    "df_train.info()"
   ]
  },
  {
   "cell_type": "code",
   "execution_count": 376,
   "metadata": {},
   "outputs": [
    {
     "data": {
      "text/html": [
       "<div>\n",
       "<style scoped>\n",
       "    .dataframe tbody tr th:only-of-type {\n",
       "        vertical-align: middle;\n",
       "    }\n",
       "\n",
       "    .dataframe tbody tr th {\n",
       "        vertical-align: top;\n",
       "    }\n",
       "\n",
       "    .dataframe thead th {\n",
       "        text-align: right;\n",
       "    }\n",
       "</style>\n",
       "<table border=\"1\" class=\"dataframe\">\n",
       "  <thead>\n",
       "    <tr style=\"text-align: right;\">\n",
       "      <th></th>\n",
       "      <th>PassengerId</th>\n",
       "      <th>Survived</th>\n",
       "      <th>Pclass</th>\n",
       "      <th>Name</th>\n",
       "      <th>Sex</th>\n",
       "      <th>Age</th>\n",
       "      <th>SibSp</th>\n",
       "      <th>Parch</th>\n",
       "      <th>Ticket</th>\n",
       "      <th>Fare</th>\n",
       "      <th>Cabin</th>\n",
       "      <th>Embarked</th>\n",
       "    </tr>\n",
       "  </thead>\n",
       "  <tbody>\n",
       "    <tr>\n",
       "      <th>0</th>\n",
       "      <td>1</td>\n",
       "      <td>0</td>\n",
       "      <td>3</td>\n",
       "      <td>Braund, Mr. Owen Harris</td>\n",
       "      <td>male</td>\n",
       "      <td>22</td>\n",
       "      <td>1</td>\n",
       "      <td>0</td>\n",
       "      <td>A/5 21171</td>\n",
       "      <td>7.2500</td>\n",
       "      <td>B96 B98</td>\n",
       "      <td>S</td>\n",
       "    </tr>\n",
       "    <tr>\n",
       "      <th>1</th>\n",
       "      <td>2</td>\n",
       "      <td>1</td>\n",
       "      <td>1</td>\n",
       "      <td>Cumings, Mrs. John Bradley (Florence Briggs Th...</td>\n",
       "      <td>female</td>\n",
       "      <td>38</td>\n",
       "      <td>1</td>\n",
       "      <td>0</td>\n",
       "      <td>PC 17599</td>\n",
       "      <td>71.2833</td>\n",
       "      <td>C85</td>\n",
       "      <td>C</td>\n",
       "    </tr>\n",
       "    <tr>\n",
       "      <th>2</th>\n",
       "      <td>3</td>\n",
       "      <td>1</td>\n",
       "      <td>3</td>\n",
       "      <td>Heikkinen, Miss. Laina</td>\n",
       "      <td>female</td>\n",
       "      <td>26</td>\n",
       "      <td>0</td>\n",
       "      <td>0</td>\n",
       "      <td>STON/O2. 3101282</td>\n",
       "      <td>7.9250</td>\n",
       "      <td>B96 B98</td>\n",
       "      <td>S</td>\n",
       "    </tr>\n",
       "    <tr>\n",
       "      <th>3</th>\n",
       "      <td>4</td>\n",
       "      <td>1</td>\n",
       "      <td>1</td>\n",
       "      <td>Futrelle, Mrs. Jacques Heath (Lily May Peel)</td>\n",
       "      <td>female</td>\n",
       "      <td>35</td>\n",
       "      <td>1</td>\n",
       "      <td>0</td>\n",
       "      <td>113803</td>\n",
       "      <td>53.1000</td>\n",
       "      <td>C123</td>\n",
       "      <td>S</td>\n",
       "    </tr>\n",
       "    <tr>\n",
       "      <th>4</th>\n",
       "      <td>5</td>\n",
       "      <td>0</td>\n",
       "      <td>3</td>\n",
       "      <td>Allen, Mr. William Henry</td>\n",
       "      <td>male</td>\n",
       "      <td>35</td>\n",
       "      <td>0</td>\n",
       "      <td>0</td>\n",
       "      <td>373450</td>\n",
       "      <td>8.0500</td>\n",
       "      <td>B96 B98</td>\n",
       "      <td>S</td>\n",
       "    </tr>\n",
       "  </tbody>\n",
       "</table>\n",
       "</div>"
      ],
      "text/plain": [
       "   PassengerId  Survived  Pclass  \\\n",
       "0            1         0       3   \n",
       "1            2         1       1   \n",
       "2            3         1       3   \n",
       "3            4         1       1   \n",
       "4            5         0       3   \n",
       "\n",
       "                                                Name     Sex  Age  SibSp  \\\n",
       "0                            Braund, Mr. Owen Harris    male   22      1   \n",
       "1  Cumings, Mrs. John Bradley (Florence Briggs Th...  female   38      1   \n",
       "2                             Heikkinen, Miss. Laina  female   26      0   \n",
       "3       Futrelle, Mrs. Jacques Heath (Lily May Peel)  female   35      1   \n",
       "4                           Allen, Mr. William Henry    male   35      0   \n",
       "\n",
       "   Parch            Ticket     Fare    Cabin Embarked  \n",
       "0      0         A/5 21171   7.2500  B96 B98        S  \n",
       "1      0          PC 17599  71.2833      C85        C  \n",
       "2      0  STON/O2. 3101282   7.9250  B96 B98        S  \n",
       "3      0            113803  53.1000     C123        S  \n",
       "4      0            373450   8.0500  B96 B98        S  "
      ]
     },
     "execution_count": 376,
     "metadata": {},
     "output_type": "execute_result"
    }
   ],
   "source": [
    "df_train.head()"
   ]
  },
  {
   "cell_type": "markdown",
   "metadata": {},
   "source": [
    "* TESTING DATA "
   ]
  },
  {
   "cell_type": "code",
   "execution_count": 377,
   "metadata": {},
   "outputs": [
    {
     "data": {
      "text/plain": [
       "PassengerId      0\n",
       "Pclass           0\n",
       "Name             0\n",
       "Sex              0\n",
       "Age             86\n",
       "SibSp            0\n",
       "Parch            0\n",
       "Ticket           0\n",
       "Fare             1\n",
       "Cabin          327\n",
       "Embarked         0\n",
       "dtype: int64"
      ]
     },
     "execution_count": 377,
     "metadata": {},
     "output_type": "execute_result"
    }
   ],
   "source": [
    "df_test.isnull().sum()"
   ]
  },
  {
   "cell_type": "markdown",
   "metadata": {},
   "source": [
    "* Age"
   ]
  },
  {
   "cell_type": "code",
   "execution_count": 378,
   "metadata": {},
   "outputs": [],
   "source": [
    "df_test.Age.fillna(df_test.Age.mean(),inplace=True)"
   ]
  },
  {
   "cell_type": "markdown",
   "metadata": {},
   "source": [
    "* Cabin"
   ]
  },
  {
   "cell_type": "code",
   "execution_count": 379,
   "metadata": {},
   "outputs": [],
   "source": [
    "df_test.Cabin.fillna(df_train.Cabin.value_counts().idxmax(),inplace=True)"
   ]
  },
  {
   "cell_type": "markdown",
   "metadata": {},
   "source": [
    "* Fare"
   ]
  },
  {
   "cell_type": "code",
   "execution_count": 380,
   "metadata": {},
   "outputs": [],
   "source": [
    "df_test.Fare.fillna(df_test.Fare.interpolate(),inplace=True)"
   ]
  },
  {
   "cell_type": "code",
   "execution_count": 381,
   "metadata": {},
   "outputs": [
    {
     "name": "stdout",
     "output_type": "stream",
     "text": [
      "<class 'pandas.core.frame.DataFrame'>\n",
      "RangeIndex: 418 entries, 0 to 417\n",
      "Data columns (total 11 columns):\n",
      "PassengerId    418 non-null int64\n",
      "Pclass         418 non-null int64\n",
      "Name           418 non-null object\n",
      "Sex            418 non-null object\n",
      "Age            418 non-null float64\n",
      "SibSp          418 non-null int64\n",
      "Parch          418 non-null int64\n",
      "Ticket         418 non-null object\n",
      "Fare           418 non-null float64\n",
      "Cabin          418 non-null object\n",
      "Embarked       418 non-null object\n",
      "dtypes: float64(2), int64(4), object(5)\n",
      "memory usage: 36.0+ KB\n"
     ]
    }
   ],
   "source": [
    "df_test.info()"
   ]
  },
  {
   "cell_type": "code",
   "execution_count": 382,
   "metadata": {},
   "outputs": [
    {
     "data": {
      "text/html": [
       "<div>\n",
       "<style scoped>\n",
       "    .dataframe tbody tr th:only-of-type {\n",
       "        vertical-align: middle;\n",
       "    }\n",
       "\n",
       "    .dataframe tbody tr th {\n",
       "        vertical-align: top;\n",
       "    }\n",
       "\n",
       "    .dataframe thead th {\n",
       "        text-align: right;\n",
       "    }\n",
       "</style>\n",
       "<table border=\"1\" class=\"dataframe\">\n",
       "  <thead>\n",
       "    <tr style=\"text-align: right;\">\n",
       "      <th></th>\n",
       "      <th>PassengerId</th>\n",
       "      <th>Pclass</th>\n",
       "      <th>Name</th>\n",
       "      <th>Sex</th>\n",
       "      <th>Age</th>\n",
       "      <th>SibSp</th>\n",
       "      <th>Parch</th>\n",
       "      <th>Ticket</th>\n",
       "      <th>Fare</th>\n",
       "      <th>Cabin</th>\n",
       "      <th>Embarked</th>\n",
       "    </tr>\n",
       "  </thead>\n",
       "  <tbody>\n",
       "    <tr>\n",
       "      <th>0</th>\n",
       "      <td>892</td>\n",
       "      <td>3</td>\n",
       "      <td>Kelly, Mr. James</td>\n",
       "      <td>male</td>\n",
       "      <td>34.5</td>\n",
       "      <td>0</td>\n",
       "      <td>0</td>\n",
       "      <td>330911</td>\n",
       "      <td>7.8292</td>\n",
       "      <td>B96 B98</td>\n",
       "      <td>Q</td>\n",
       "    </tr>\n",
       "    <tr>\n",
       "      <th>1</th>\n",
       "      <td>893</td>\n",
       "      <td>3</td>\n",
       "      <td>Wilkes, Mrs. James (Ellen Needs)</td>\n",
       "      <td>female</td>\n",
       "      <td>47.0</td>\n",
       "      <td>1</td>\n",
       "      <td>0</td>\n",
       "      <td>363272</td>\n",
       "      <td>7.0000</td>\n",
       "      <td>B96 B98</td>\n",
       "      <td>S</td>\n",
       "    </tr>\n",
       "    <tr>\n",
       "      <th>2</th>\n",
       "      <td>894</td>\n",
       "      <td>2</td>\n",
       "      <td>Myles, Mr. Thomas Francis</td>\n",
       "      <td>male</td>\n",
       "      <td>62.0</td>\n",
       "      <td>0</td>\n",
       "      <td>0</td>\n",
       "      <td>240276</td>\n",
       "      <td>9.6875</td>\n",
       "      <td>B96 B98</td>\n",
       "      <td>Q</td>\n",
       "    </tr>\n",
       "    <tr>\n",
       "      <th>3</th>\n",
       "      <td>895</td>\n",
       "      <td>3</td>\n",
       "      <td>Wirz, Mr. Albert</td>\n",
       "      <td>male</td>\n",
       "      <td>27.0</td>\n",
       "      <td>0</td>\n",
       "      <td>0</td>\n",
       "      <td>315154</td>\n",
       "      <td>8.6625</td>\n",
       "      <td>B96 B98</td>\n",
       "      <td>S</td>\n",
       "    </tr>\n",
       "    <tr>\n",
       "      <th>4</th>\n",
       "      <td>896</td>\n",
       "      <td>3</td>\n",
       "      <td>Hirvonen, Mrs. Alexander (Helga E Lindqvist)</td>\n",
       "      <td>female</td>\n",
       "      <td>22.0</td>\n",
       "      <td>1</td>\n",
       "      <td>1</td>\n",
       "      <td>3101298</td>\n",
       "      <td>12.2875</td>\n",
       "      <td>B96 B98</td>\n",
       "      <td>S</td>\n",
       "    </tr>\n",
       "  </tbody>\n",
       "</table>\n",
       "</div>"
      ],
      "text/plain": [
       "   PassengerId  Pclass                                          Name     Sex  \\\n",
       "0          892       3                              Kelly, Mr. James    male   \n",
       "1          893       3              Wilkes, Mrs. James (Ellen Needs)  female   \n",
       "2          894       2                     Myles, Mr. Thomas Francis    male   \n",
       "3          895       3                              Wirz, Mr. Albert    male   \n",
       "4          896       3  Hirvonen, Mrs. Alexander (Helga E Lindqvist)  female   \n",
       "\n",
       "    Age  SibSp  Parch   Ticket     Fare    Cabin Embarked  \n",
       "0  34.5      0      0   330911   7.8292  B96 B98        Q  \n",
       "1  47.0      1      0   363272   7.0000  B96 B98        S  \n",
       "2  62.0      0      0   240276   9.6875  B96 B98        Q  \n",
       "3  27.0      0      0   315154   8.6625  B96 B98        S  \n",
       "4  22.0      1      1  3101298  12.2875  B96 B98        S  "
      ]
     },
     "execution_count": 382,
     "metadata": {},
     "output_type": "execute_result"
    }
   ],
   "source": [
    "df_test.head()"
   ]
  },
  {
   "cell_type": "markdown",
   "metadata": {},
   "source": [
    "##### DATA VISUALIZATION"
   ]
  },
  {
   "cell_type": "code",
   "execution_count": 383,
   "metadata": {},
   "outputs": [
    {
     "data": {
      "text/html": [
       "<div>\n",
       "<style scoped>\n",
       "    .dataframe tbody tr th:only-of-type {\n",
       "        vertical-align: middle;\n",
       "    }\n",
       "\n",
       "    .dataframe tbody tr th {\n",
       "        vertical-align: top;\n",
       "    }\n",
       "\n",
       "    .dataframe thead th {\n",
       "        text-align: right;\n",
       "    }\n",
       "</style>\n",
       "<table border=\"1\" class=\"dataframe\">\n",
       "  <thead>\n",
       "    <tr style=\"text-align: right;\">\n",
       "      <th></th>\n",
       "      <th>PassengerId</th>\n",
       "      <th>Survived</th>\n",
       "      <th>Pclass</th>\n",
       "      <th>Age</th>\n",
       "      <th>SibSp</th>\n",
       "      <th>Parch</th>\n",
       "      <th>Fare</th>\n",
       "    </tr>\n",
       "  </thead>\n",
       "  <tbody>\n",
       "    <tr>\n",
       "      <th>PassengerId</th>\n",
       "      <td>1.000000</td>\n",
       "      <td>-0.005007</td>\n",
       "      <td>-0.035144</td>\n",
       "      <td>0.033741</td>\n",
       "      <td>-0.057527</td>\n",
       "      <td>-0.001652</td>\n",
       "      <td>0.012658</td>\n",
       "    </tr>\n",
       "    <tr>\n",
       "      <th>Survived</th>\n",
       "      <td>-0.005007</td>\n",
       "      <td>1.000000</td>\n",
       "      <td>-0.338481</td>\n",
       "      <td>-0.067809</td>\n",
       "      <td>-0.035322</td>\n",
       "      <td>0.081629</td>\n",
       "      <td>0.257307</td>\n",
       "    </tr>\n",
       "    <tr>\n",
       "      <th>Pclass</th>\n",
       "      <td>-0.035144</td>\n",
       "      <td>-0.338481</td>\n",
       "      <td>1.000000</td>\n",
       "      <td>-0.335071</td>\n",
       "      <td>0.083081</td>\n",
       "      <td>0.018443</td>\n",
       "      <td>-0.549500</td>\n",
       "    </tr>\n",
       "    <tr>\n",
       "      <th>Age</th>\n",
       "      <td>0.033741</td>\n",
       "      <td>-0.067809</td>\n",
       "      <td>-0.335071</td>\n",
       "      <td>1.000000</td>\n",
       "      <td>-0.232743</td>\n",
       "      <td>-0.176744</td>\n",
       "      <td>0.093856</td>\n",
       "    </tr>\n",
       "    <tr>\n",
       "      <th>SibSp</th>\n",
       "      <td>-0.057527</td>\n",
       "      <td>-0.035322</td>\n",
       "      <td>0.083081</td>\n",
       "      <td>-0.232743</td>\n",
       "      <td>1.000000</td>\n",
       "      <td>0.414838</td>\n",
       "      <td>0.159651</td>\n",
       "    </tr>\n",
       "    <tr>\n",
       "      <th>Parch</th>\n",
       "      <td>-0.001652</td>\n",
       "      <td>0.081629</td>\n",
       "      <td>0.018443</td>\n",
       "      <td>-0.176744</td>\n",
       "      <td>0.414838</td>\n",
       "      <td>1.000000</td>\n",
       "      <td>0.216225</td>\n",
       "    </tr>\n",
       "    <tr>\n",
       "      <th>Fare</th>\n",
       "      <td>0.012658</td>\n",
       "      <td>0.257307</td>\n",
       "      <td>-0.549500</td>\n",
       "      <td>0.093856</td>\n",
       "      <td>0.159651</td>\n",
       "      <td>0.216225</td>\n",
       "      <td>1.000000</td>\n",
       "    </tr>\n",
       "  </tbody>\n",
       "</table>\n",
       "</div>"
      ],
      "text/plain": [
       "             PassengerId  Survived    Pclass       Age     SibSp     Parch  \\\n",
       "PassengerId     1.000000 -0.005007 -0.035144  0.033741 -0.057527 -0.001652   \n",
       "Survived       -0.005007  1.000000 -0.338481 -0.067809 -0.035322  0.081629   \n",
       "Pclass         -0.035144 -0.338481  1.000000 -0.335071  0.083081  0.018443   \n",
       "Age             0.033741 -0.067809 -0.335071  1.000000 -0.232743 -0.176744   \n",
       "SibSp          -0.057527 -0.035322  0.083081 -0.232743  1.000000  0.414838   \n",
       "Parch          -0.001652  0.081629  0.018443 -0.176744  0.414838  1.000000   \n",
       "Fare            0.012658  0.257307 -0.549500  0.093856  0.159651  0.216225   \n",
       "\n",
       "                 Fare  \n",
       "PassengerId  0.012658  \n",
       "Survived     0.257307  \n",
       "Pclass      -0.549500  \n",
       "Age          0.093856  \n",
       "SibSp        0.159651  \n",
       "Parch        0.216225  \n",
       "Fare         1.000000  "
      ]
     },
     "execution_count": 383,
     "metadata": {},
     "output_type": "execute_result"
    }
   ],
   "source": [
    "df_train.corr()"
   ]
  },
  {
   "cell_type": "code",
   "execution_count": 384,
   "metadata": {},
   "outputs": [
    {
     "data": {
      "text/plain": [
       "<AxesSubplot:>"
      ]
     },
     "execution_count": 384,
     "metadata": {},
     "output_type": "execute_result"
    },
    {
     "data": {
      "image/png": "[encoded data removed]",
      "text/plain": [
       "<Figure size 432x288 with 2 Axes>"
      ]
     },
     "metadata": {
      "needs_background": "light"
     },
     "output_type": "display_data"
    }
   ],
   "source": [
    "sns.heatmap(df_train.corr())"
   ]
  },
  {
   "cell_type": "markdown",
   "metadata": {},
   "source": [
    "### DATA MANIPULATION"
   ]
  },
  {
   "cell_type": "code",
   "execution_count": 385,
   "metadata": {},
   "outputs": [
    {
     "data": {
      "text/html": [
       "<div>\n",
       "<style scoped>\n",
       "    .dataframe tbody tr th:only-of-type {\n",
       "        vertical-align: middle;\n",
       "    }\n",
       "\n",
       "    .dataframe tbody tr th {\n",
       "        vertical-align: top;\n",
       "    }\n",
       "\n",
       "    .dataframe thead th {\n",
       "        text-align: right;\n",
       "    }\n",
       "</style>\n",
       "<table border=\"1\" class=\"dataframe\">\n",
       "  <thead>\n",
       "    <tr style=\"text-align: right;\">\n",
       "      <th></th>\n",
       "      <th>PassengerId</th>\n",
       "      <th>Survived</th>\n",
       "      <th>Pclass</th>\n",
       "      <th>Name</th>\n",
       "      <th>Sex</th>\n",
       "      <th>Age</th>\n",
       "      <th>SibSp</th>\n",
       "      <th>Parch</th>\n",
       "      <th>Ticket</th>\n",
       "      <th>Fare</th>\n",
       "      <th>Cabin</th>\n",
       "      <th>Embarked</th>\n",
       "    </tr>\n",
       "  </thead>\n",
       "  <tbody>\n",
       "    <tr>\n",
       "      <th>0</th>\n",
       "      <td>1</td>\n",
       "      <td>0</td>\n",
       "      <td>3</td>\n",
       "      <td>Braund, Mr. Owen Harris</td>\n",
       "      <td>male</td>\n",
       "      <td>22</td>\n",
       "      <td>1</td>\n",
       "      <td>0</td>\n",
       "      <td>A/5 21171</td>\n",
       "      <td>7.2500</td>\n",
       "      <td>B96 B98</td>\n",
       "      <td>S</td>\n",
       "    </tr>\n",
       "    <tr>\n",
       "      <th>1</th>\n",
       "      <td>2</td>\n",
       "      <td>1</td>\n",
       "      <td>1</td>\n",
       "      <td>Cumings, Mrs. John Bradley (Florence Briggs Th...</td>\n",
       "      <td>female</td>\n",
       "      <td>38</td>\n",
       "      <td>1</td>\n",
       "      <td>0</td>\n",
       "      <td>PC 17599</td>\n",
       "      <td>71.2833</td>\n",
       "      <td>C85</td>\n",
       "      <td>C</td>\n",
       "    </tr>\n",
       "    <tr>\n",
       "      <th>2</th>\n",
       "      <td>3</td>\n",
       "      <td>1</td>\n",
       "      <td>3</td>\n",
       "      <td>Heikkinen, Miss. Laina</td>\n",
       "      <td>female</td>\n",
       "      <td>26</td>\n",
       "      <td>0</td>\n",
       "      <td>0</td>\n",
       "      <td>STON/O2. 3101282</td>\n",
       "      <td>7.9250</td>\n",
       "      <td>B96 B98</td>\n",
       "      <td>S</td>\n",
       "    </tr>\n",
       "    <tr>\n",
       "      <th>3</th>\n",
       "      <td>4</td>\n",
       "      <td>1</td>\n",
       "      <td>1</td>\n",
       "      <td>Futrelle, Mrs. Jacques Heath (Lily May Peel)</td>\n",
       "      <td>female</td>\n",
       "      <td>35</td>\n",
       "      <td>1</td>\n",
       "      <td>0</td>\n",
       "      <td>113803</td>\n",
       "      <td>53.1000</td>\n",
       "      <td>C123</td>\n",
       "      <td>S</td>\n",
       "    </tr>\n",
       "    <tr>\n",
       "      <th>4</th>\n",
       "      <td>5</td>\n",
       "      <td>0</td>\n",
       "      <td>3</td>\n",
       "      <td>Allen, Mr. William Henry</td>\n",
       "      <td>male</td>\n",
       "      <td>35</td>\n",
       "      <td>0</td>\n",
       "      <td>0</td>\n",
       "      <td>373450</td>\n",
       "      <td>8.0500</td>\n",
       "      <td>B96 B98</td>\n",
       "      <td>S</td>\n",
       "    </tr>\n",
       "  </tbody>\n",
       "</table>\n",
       "</div>"
      ],
      "text/plain": [
       "   PassengerId  Survived  Pclass  \\\n",
       "0            1         0       3   \n",
       "1            2         1       1   \n",
       "2            3         1       3   \n",
       "3            4         1       1   \n",
       "4            5         0       3   \n",
       "\n",
       "                                                Name     Sex  Age  SibSp  \\\n",
       "0                            Braund, Mr. Owen Harris    male   22      1   \n",
       "1  Cumings, Mrs. John Bradley (Florence Briggs Th...  female   38      1   \n",
       "2                             Heikkinen, Miss. Laina  female   26      0   \n",
       "3       Futrelle, Mrs. Jacques Heath (Lily May Peel)  female   35      1   \n",
       "4                           Allen, Mr. William Henry    male   35      0   \n",
       "\n",
       "   Parch            Ticket     Fare    Cabin Embarked  \n",
       "0      0         A/5 21171   7.2500  B96 B98        S  \n",
       "1      0          PC 17599  71.2833      C85        C  \n",
       "2      0  STON/O2. 3101282   7.9250  B96 B98        S  \n",
       "3      0            113803  53.1000     C123        S  \n",
       "4      0            373450   8.0500  B96 B98        S  "
      ]
     },
     "execution_count": 385,
     "metadata": {},
     "output_type": "execute_result"
    }
   ],
   "source": [
    "df_train.head()"
   ]
  },
  {
   "cell_type": "code",
   "execution_count": 386,
   "metadata": {},
   "outputs": [],
   "source": [
    "df_train.Sex = df_train.Sex.map({\"male\": 1, \"female\":0}).astype(int)"
   ]
  },
  {
   "cell_type": "markdown",
   "metadata": {},
   "source": [
    "#### Setting up input and target"
   ]
  },
  {
   "cell_type": "code",
   "execution_count": 387,
   "metadata": {},
   "outputs": [],
   "source": [
    "y = df_train.Survived"
   ]
  },
  {
   "cell_type": "code",
   "execution_count": 388,
   "metadata": {},
   "outputs": [],
   "source": [
    "x = df_train.drop(columns=[\"Name\",\"Ticket\",\"Cabin\",\"Embarked\",\"Survived\"],axis=0)"
   ]
  },
  {
   "cell_type": "code",
   "execution_count": 389,
   "metadata": {},
   "outputs": [
    {
     "name": "stdout",
     "output_type": "stream",
     "text": [
      "<class 'pandas.core.frame.DataFrame'>\n",
      "RangeIndex: 891 entries, 0 to 890\n",
      "Data columns (total 7 columns):\n",
      "PassengerId    891 non-null int64\n",
      "Pclass         891 non-null int64\n",
      "Sex            891 non-null int32\n",
      "Age            891 non-null int32\n",
      "SibSp          891 non-null int64\n",
      "Parch          891 non-null int64\n",
      "Fare           891 non-null float64\n",
      "dtypes: float64(1), int32(2), int64(4)\n",
      "memory usage: 41.9 KB\n"
     ]
    }
   ],
   "source": [
    "x.info()"
   ]
  },
  {
   "cell_type": "code",
   "execution_count": 390,
   "metadata": {},
   "outputs": [
    {
     "data": {
      "text/plain": [
       "0    549\n",
       "1    342\n",
       "Name: Survived, dtype: int64"
      ]
     },
     "execution_count": 390,
     "metadata": {},
     "output_type": "execute_result"
    }
   ],
   "source": [
    "y.value_counts()"
   ]
  },
  {
   "cell_type": "markdown",
   "metadata": {},
   "source": [
    "##### SPLITTING THE DATA INTO TRAINING AND TESTING "
   ]
  },
  {
   "cell_type": "code",
   "execution_count": 391,
   "metadata": {},
   "outputs": [],
   "source": [
    "from sklearn.model_selection import train_test_split"
   ]
  },
  {
   "cell_type": "code",
   "execution_count": 392,
   "metadata": {},
   "outputs": [],
   "source": [
    "x_train,x_test, y_train,y_test = train_test_split(x,y, test_size=0.2,random_state=42)"
   ]
  },
  {
   "cell_type": "code",
   "execution_count": 393,
   "metadata": {},
   "outputs": [
    {
     "name": "stdout",
     "output_type": "stream",
     "text": [
      "712\n",
      "712\n"
     ]
    }
   ],
   "source": [
    "print(len(x_train))\n",
    "print(len(y_train))"
   ]
  },
  {
   "cell_type": "code",
   "execution_count": 394,
   "metadata": {},
   "outputs": [
    {
     "name": "stdout",
     "output_type": "stream",
     "text": [
      "(712, 7)\n",
      "(712,)\n"
     ]
    }
   ],
   "source": [
    "print(x_train.shape)\n",
    "print(y_train.shape)"
   ]
  },
  {
   "cell_type": "code",
   "execution_count": 395,
   "metadata": {},
   "outputs": [
    {
     "name": "stdout",
     "output_type": "stream",
     "text": [
      "179\n",
      "179\n"
     ]
    }
   ],
   "source": [
    "print(len(x_test))\n",
    "print(len(y_test))"
   ]
  },
  {
   "cell_type": "code",
   "execution_count": 396,
   "metadata": {},
   "outputs": [
    {
     "name": "stdout",
     "output_type": "stream",
     "text": [
      "(179, 7)\n",
      "(179,)\n"
     ]
    }
   ],
   "source": [
    "print(x_test.shape)\n",
    "print(y_test.shape)"
   ]
  },
  {
   "cell_type": "markdown",
   "metadata": {},
   "source": [
    "##### Dealing with df_test"
   ]
  },
  {
   "cell_type": "code",
   "execution_count": 397,
   "metadata": {},
   "outputs": [
    {
     "name": "stdout",
     "output_type": "stream",
     "text": [
      "<class 'pandas.core.frame.DataFrame'>\n",
      "RangeIndex: 418 entries, 0 to 417\n",
      "Data columns (total 11 columns):\n",
      "PassengerId    418 non-null int64\n",
      "Pclass         418 non-null int64\n",
      "Name           418 non-null object\n",
      "Sex            418 non-null object\n",
      "Age            418 non-null float64\n",
      "SibSp          418 non-null int64\n",
      "Parch          418 non-null int64\n",
      "Ticket         418 non-null object\n",
      "Fare           418 non-null float64\n",
      "Cabin          418 non-null object\n",
      "Embarked       418 non-null object\n",
      "dtypes: float64(2), int64(4), object(5)\n",
      "memory usage: 36.0+ KB\n"
     ]
    }
   ],
   "source": [
    "df_test.info()"
   ]
  },
  {
   "cell_type": "code",
   "execution_count": 398,
   "metadata": {},
   "outputs": [],
   "source": [
    "df_test.Sex = df_test[\"Sex\"].map({\"male\":1,\"female\":0}).astype(int)"
   ]
  },
  {
   "cell_type": "code",
   "execution_count": 399,
   "metadata": {},
   "outputs": [],
   "source": [
    "x_sample = df_test.drop(columns=[\"Name\",\"Embarked\",\"Ticket\",\"Cabin\"],axis=0)"
   ]
  },
  {
   "cell_type": "code",
   "execution_count": 400,
   "metadata": {},
   "outputs": [
    {
     "name": "stdout",
     "output_type": "stream",
     "text": [
      "<class 'pandas.core.frame.DataFrame'>\n",
      "RangeIndex: 418 entries, 0 to 417\n",
      "Data columns (total 7 columns):\n",
      "PassengerId    418 non-null int64\n",
      "Pclass         418 non-null int64\n",
      "Sex            418 non-null int32\n",
      "Age            418 non-null float64\n",
      "SibSp          418 non-null int64\n",
      "Parch          418 non-null int64\n",
      "Fare           418 non-null float64\n",
      "dtypes: float64(2), int32(1), int64(4)\n",
      "memory usage: 21.4 KB\n"
     ]
    }
   ],
   "source": [
    "x_sample.info()"
   ]
  },
  {
   "cell_type": "markdown",
   "metadata": {},
   "source": [
    "#### DEPLOYING MODEL TO TRAIN THE DATA \n",
    "* LogisticRegression"
   ]
  },
  {
   "cell_type": "code",
   "execution_count": 401,
   "metadata": {},
   "outputs": [],
   "source": [
    "from sklearn.linear_model import LogisticRegression"
   ]
  },
  {
   "cell_type": "code",
   "execution_count": 402,
   "metadata": {},
   "outputs": [],
   "source": [
    "model1 = LogisticRegression()"
   ]
  },
  {
   "cell_type": "code",
   "execution_count": 403,
   "metadata": {},
   "outputs": [
    {
     "name": "stderr",
     "output_type": "stream",
     "text": [
      "C:\\Users\\hp\\anaconda3\\lib\\site-packages\\sklearn\\linear_model\\_logistic.py:818: ConvergenceWarning: lbfgs failed to converge (status=1):\n",
      "STOP: TOTAL NO. of ITERATIONS REACHED LIMIT.\n",
      "\n",
      "Increase the number of iterations (max_iter) or scale the data as shown in:\n",
      "    https://scikit-learn.org/stable/modules/preprocessing.html\n",
      "Please also refer to the documentation for alternative solver options:\n",
      "    https://scikit-learn.org/stable/modules/linear_model.html#logistic-regression\n",
      "  extra_warning_msg=_LOGISTIC_SOLVER_CONVERGENCE_MSG,\n"
     ]
    },
    {
     "data": {
      "text/plain": [
       "LogisticRegression()"
      ]
     },
     "execution_count": 403,
     "metadata": {},
     "output_type": "execute_result"
    }
   ],
   "source": [
    "model1.fit(x_train,y_train)"
   ]
  },
  {
   "cell_type": "markdown",
   "metadata": {},
   "source": [
    "#### Prediction with the model"
   ]
  },
  {
   "cell_type": "code",
   "execution_count": 404,
   "metadata": {},
   "outputs": [
    {
     "data": {
      "text/plain": [
       "array([0, 0, 0, 0, 1, 0, 1, 0, 1, 0, 0, 0, 1, 0, 1, 1, 0, 0, 1, 1, 0, 0,\n",
       "       1, 1, 1, 0, 1, 0, 0, 0, 0, 0, 1, 1, 0, 0, 1, 1, 0, 0, 0, 1, 0, 1,\n",
       "       1, 0, 0, 0, 1, 1, 0, 0, 1, 1, 0, 0, 0, 0, 0, 1, 0, 0, 0, 1, 1, 1,\n",
       "       1, 0, 0, 1, 1, 0, 1, 1, 1, 1, 0, 1, 0, 1, 0, 0, 0, 0, 0, 0, 1, 1,\n",
       "       1, 0, 1, 0, 1, 0, 1, 0, 1, 0, 1, 0, 1, 0, 0, 0, 1, 0, 0, 0, 0, 0,\n",
       "       0, 1, 1, 1, 1, 0, 0, 1, 1, 1, 1, 0, 1, 0, 0, 1, 0, 1, 0, 0, 0, 0,\n",
       "       1, 0, 0, 0, 0, 0, 1, 0, 0, 1, 0, 0, 0, 0, 1, 0, 1, 0, 1, 0, 0, 1,\n",
       "       0, 0, 1, 1, 0, 1, 1, 0, 1, 0, 0, 1, 0, 0, 1, 1, 0, 0, 0, 0, 0, 1,\n",
       "       1, 0, 1, 1, 0, 0, 1, 0, 1, 0, 1, 0, 0, 0, 0, 1, 0, 0, 0, 0, 1, 1,\n",
       "       0, 1, 1, 0, 0, 1, 0, 1, 1, 0, 1, 0, 0, 0, 0, 1, 0, 0, 1, 0, 1, 0,\n",
       "       1, 0, 1, 0, 1, 1, 0, 1, 0, 0, 0, 1, 0, 0, 0, 0, 0, 0, 1, 1, 1, 1,\n",
       "       0, 0, 0, 0, 1, 0, 1, 1, 1, 0, 1, 0, 0, 0, 0, 0, 1, 0, 0, 0, 1, 1,\n",
       "       0, 0, 1, 0, 1, 0, 0, 0, 1, 1, 0, 1, 0, 0, 0, 0, 1, 0, 1, 1, 1, 0,\n",
       "       0, 1, 0, 0, 1, 1, 0, 0, 0, 0, 1, 0, 1, 0, 0, 0, 0, 0, 1, 1, 0, 0,\n",
       "       0, 1, 0, 0, 0, 1, 1, 1, 0, 0, 0, 0, 0, 0, 0, 1, 1, 0, 1, 0, 0, 0,\n",
       "       1, 0, 0, 1, 0, 1, 0, 0, 0, 0, 0, 0, 0, 1, 0, 1, 0, 1, 0, 1, 1, 0,\n",
       "       0, 0, 1, 0, 1, 0, 0, 1, 0, 1, 1, 0, 1, 0, 0, 1, 1, 0, 0, 1, 0, 0,\n",
       "       1, 1, 1, 0, 0, 0, 0, 0, 1, 1, 0, 1, 0, 0, 0, 0, 1, 1, 0, 0, 0, 1,\n",
       "       0, 1, 0, 0, 1, 0, 1, 1, 0, 0, 0, 0, 1, 1, 1, 1, 1, 0, 1, 0, 0, 0],\n",
       "      dtype=int64)"
      ]
     },
     "execution_count": 404,
     "metadata": {},
     "output_type": "execute_result"
    }
   ],
   "source": [
    "y_pred=model1.predict(x_sample)\n",
    "y_pred"
   ]
  },
  {
   "cell_type": "markdown",
   "metadata": {},
   "source": [
    "###### TRAINING ACCURACY\n",
    "* Aim to measure the accuracy of the model deployed on training data "
   ]
  },
  {
   "cell_type": "code",
   "execution_count": 405,
   "metadata": {},
   "outputs": [
    {
     "data": {
      "text/plain": [
       "0.7963483146067416"
      ]
     },
     "execution_count": 405,
     "metadata": {},
     "output_type": "execute_result"
    }
   ],
   "source": [
    "model1.score(x_train,y_train)"
   ]
  },
  {
   "cell_type": "markdown",
   "metadata": {},
   "source": [
    "###### VALIDATION ACCURACY\n",
    "* Aim is to measure the accuracy of the model deployed on testing data"
   ]
  },
  {
   "cell_type": "code",
   "execution_count": 406,
   "metadata": {},
   "outputs": [
    {
     "data": {
      "text/plain": [
       "0.7877094972067039"
      ]
     },
     "execution_count": 406,
     "metadata": {},
     "output_type": "execute_result"
    }
   ],
   "source": [
    "model1.score(x_test,y_test) "
   ]
  },
  {
   "cell_type": "code",
   "execution_count": 407,
   "metadata": {},
   "outputs": [],
   "source": [
    "df_test[\"Survived\"] = y_pred"
   ]
  },
  {
   "cell_type": "markdown",
   "metadata": {},
   "source": [
    "##### VISUALIZING THE PREDICTED SURVIVED OF TITANIC DATA \n",
    "* 0: not survived\n",
    "* 1 : survived"
   ]
  },
  {
   "cell_type": "code",
   "execution_count": 408,
   "metadata": {
    "scrolled": true
   },
   "outputs": [
    {
     "data": {
      "text/html": [
       "<div>\n",
       "<style scoped>\n",
       "    .dataframe tbody tr th:only-of-type {\n",
       "        vertical-align: middle;\n",
       "    }\n",
       "\n",
       "    .dataframe tbody tr th {\n",
       "        vertical-align: top;\n",
       "    }\n",
       "\n",
       "    .dataframe thead th {\n",
       "        text-align: right;\n",
       "    }\n",
       "</style>\n",
       "<table border=\"1\" class=\"dataframe\">\n",
       "  <thead>\n",
       "    <tr style=\"text-align: right;\">\n",
       "      <th></th>\n",
       "      <th>PassengerId</th>\n",
       "      <th>Pclass</th>\n",
       "      <th>Name</th>\n",
       "      <th>Sex</th>\n",
       "      <th>Age</th>\n",
       "      <th>SibSp</th>\n",
       "      <th>Parch</th>\n",
       "      <th>Ticket</th>\n",
       "      <th>Fare</th>\n",
       "      <th>Cabin</th>\n",
       "      <th>Embarked</th>\n",
       "      <th>Survived</th>\n",
       "    </tr>\n",
       "  </thead>\n",
       "  <tbody>\n",
       "    <tr>\n",
       "      <th>0</th>\n",
       "      <td>892</td>\n",
       "      <td>3</td>\n",
       "      <td>Kelly, Mr. James</td>\n",
       "      <td>1</td>\n",
       "      <td>34.50000</td>\n",
       "      <td>0</td>\n",
       "      <td>0</td>\n",
       "      <td>330911</td>\n",
       "      <td>7.8292</td>\n",
       "      <td>B96 B98</td>\n",
       "      <td>Q</td>\n",
       "      <td>0</td>\n",
       "    </tr>\n",
       "    <tr>\n",
       "      <th>1</th>\n",
       "      <td>893</td>\n",
       "      <td>3</td>\n",
       "      <td>Wilkes, Mrs. James (Ellen Needs)</td>\n",
       "      <td>0</td>\n",
       "      <td>47.00000</td>\n",
       "      <td>1</td>\n",
       "      <td>0</td>\n",
       "      <td>363272</td>\n",
       "      <td>7.0000</td>\n",
       "      <td>B96 B98</td>\n",
       "      <td>S</td>\n",
       "      <td>0</td>\n",
       "    </tr>\n",
       "    <tr>\n",
       "      <th>2</th>\n",
       "      <td>894</td>\n",
       "      <td>2</td>\n",
       "      <td>Myles, Mr. Thomas Francis</td>\n",
       "      <td>1</td>\n",
       "      <td>62.00000</td>\n",
       "      <td>0</td>\n",
       "      <td>0</td>\n",
       "      <td>240276</td>\n",
       "      <td>9.6875</td>\n",
       "      <td>B96 B98</td>\n",
       "      <td>Q</td>\n",
       "      <td>0</td>\n",
       "    </tr>\n",
       "    <tr>\n",
       "      <th>3</th>\n",
       "      <td>895</td>\n",
       "      <td>3</td>\n",
       "      <td>Wirz, Mr. Albert</td>\n",
       "      <td>1</td>\n",
       "      <td>27.00000</td>\n",
       "      <td>0</td>\n",
       "      <td>0</td>\n",
       "      <td>315154</td>\n",
       "      <td>8.6625</td>\n",
       "      <td>B96 B98</td>\n",
       "      <td>S</td>\n",
       "      <td>0</td>\n",
       "    </tr>\n",
       "    <tr>\n",
       "      <th>4</th>\n",
       "      <td>896</td>\n",
       "      <td>3</td>\n",
       "      <td>Hirvonen, Mrs. Alexander (Helga E Lindqvist)</td>\n",
       "      <td>0</td>\n",
       "      <td>22.00000</td>\n",
       "      <td>1</td>\n",
       "      <td>1</td>\n",
       "      <td>3101298</td>\n",
       "      <td>12.2875</td>\n",
       "      <td>B96 B98</td>\n",
       "      <td>S</td>\n",
       "      <td>1</td>\n",
       "    </tr>\n",
       "    <tr>\n",
       "      <th>...</th>\n",
       "      <td>...</td>\n",
       "      <td>...</td>\n",
       "      <td>...</td>\n",
       "      <td>...</td>\n",
       "      <td>...</td>\n",
       "      <td>...</td>\n",
       "      <td>...</td>\n",
       "      <td>...</td>\n",
       "      <td>...</td>\n",
       "      <td>...</td>\n",
       "      <td>...</td>\n",
       "      <td>...</td>\n",
       "    </tr>\n",
       "    <tr>\n",
       "      <th>413</th>\n",
       "      <td>1305</td>\n",
       "      <td>3</td>\n",
       "      <td>Spector, Mr. Woolf</td>\n",
       "      <td>1</td>\n",
       "      <td>30.27259</td>\n",
       "      <td>0</td>\n",
       "      <td>0</td>\n",
       "      <td>A.5. 3236</td>\n",
       "      <td>8.0500</td>\n",
       "      <td>B96 B98</td>\n",
       "      <td>S</td>\n",
       "      <td>0</td>\n",
       "    </tr>\n",
       "    <tr>\n",
       "      <th>414</th>\n",
       "      <td>1306</td>\n",
       "      <td>1</td>\n",
       "      <td>Oliva y Ocana, Dona. Fermina</td>\n",
       "      <td>0</td>\n",
       "      <td>39.00000</td>\n",
       "      <td>0</td>\n",
       "      <td>0</td>\n",
       "      <td>PC 17758</td>\n",
       "      <td>108.9000</td>\n",
       "      <td>C105</td>\n",
       "      <td>C</td>\n",
       "      <td>1</td>\n",
       "    </tr>\n",
       "    <tr>\n",
       "      <th>415</th>\n",
       "      <td>1307</td>\n",
       "      <td>3</td>\n",
       "      <td>Saether, Mr. Simon Sivertsen</td>\n",
       "      <td>1</td>\n",
       "      <td>38.50000</td>\n",
       "      <td>0</td>\n",
       "      <td>0</td>\n",
       "      <td>SOTON/O.Q. 3101262</td>\n",
       "      <td>7.2500</td>\n",
       "      <td>B96 B98</td>\n",
       "      <td>S</td>\n",
       "      <td>0</td>\n",
       "    </tr>\n",
       "    <tr>\n",
       "      <th>416</th>\n",
       "      <td>1308</td>\n",
       "      <td>3</td>\n",
       "      <td>Ware, Mr. Frederick</td>\n",
       "      <td>1</td>\n",
       "      <td>30.27259</td>\n",
       "      <td>0</td>\n",
       "      <td>0</td>\n",
       "      <td>359309</td>\n",
       "      <td>8.0500</td>\n",
       "      <td>B96 B98</td>\n",
       "      <td>S</td>\n",
       "      <td>0</td>\n",
       "    </tr>\n",
       "    <tr>\n",
       "      <th>417</th>\n",
       "      <td>1309</td>\n",
       "      <td>3</td>\n",
       "      <td>Peter, Master. Michael J</td>\n",
       "      <td>1</td>\n",
       "      <td>30.27259</td>\n",
       "      <td>1</td>\n",
       "      <td>1</td>\n",
       "      <td>2668</td>\n",
       "      <td>22.3583</td>\n",
       "      <td>B96 B98</td>\n",
       "      <td>C</td>\n",
       "      <td>0</td>\n",
       "    </tr>\n",
       "  </tbody>\n",
       "</table>\n",
       "<p>418 rows × 12 columns</p>\n",
       "</div>"
      ],
      "text/plain": [
       "     PassengerId  Pclass                                          Name  Sex  \\\n",
       "0            892       3                              Kelly, Mr. James    1   \n",
       "1            893       3              Wilkes, Mrs. James (Ellen Needs)    0   \n",
       "2            894       2                     Myles, Mr. Thomas Francis    1   \n",
       "3            895       3                              Wirz, Mr. Albert    1   \n",
       "4            896       3  Hirvonen, Mrs. Alexander (Helga E Lindqvist)    0   \n",
       "..           ...     ...                                           ...  ...   \n",
       "413         1305       3                            Spector, Mr. Woolf    1   \n",
       "414         1306       1                  Oliva y Ocana, Dona. Fermina    0   \n",
       "415         1307       3                  Saether, Mr. Simon Sivertsen    1   \n",
       "416         1308       3                           Ware, Mr. Frederick    1   \n",
       "417         1309       3                      Peter, Master. Michael J    1   \n",
       "\n",
       "          Age  SibSp  Parch              Ticket      Fare    Cabin Embarked  \\\n",
       "0    34.50000      0      0              330911    7.8292  B96 B98        Q   \n",
       "1    47.00000      1      0              363272    7.0000  B96 B98        S   \n",
       "2    62.00000      0      0              240276    9.6875  B96 B98        Q   \n",
       "3    27.00000      0      0              315154    8.6625  B96 B98        S   \n",
       "4    22.00000      1      1             3101298   12.2875  B96 B98        S   \n",
       "..        ...    ...    ...                 ...       ...      ...      ...   \n",
       "413  30.27259      0      0           A.5. 3236    8.0500  B96 B98        S   \n",
       "414  39.00000      0      0            PC 17758  108.9000     C105        C   \n",
       "415  38.50000      0      0  SOTON/O.Q. 3101262    7.2500  B96 B98        S   \n",
       "416  30.27259      0      0              359309    8.0500  B96 B98        S   \n",
       "417  30.27259      1      1                2668   22.3583  B96 B98        C   \n",
       "\n",
       "     Survived  \n",
       "0           0  \n",
       "1           0  \n",
       "2           0  \n",
       "3           0  \n",
       "4           1  \n",
       "..        ...  \n",
       "413         0  \n",
       "414         1  \n",
       "415         0  \n",
       "416         0  \n",
       "417         0  \n",
       "\n",
       "[418 rows x 12 columns]"
      ]
     },
     "execution_count": 408,
     "metadata": {},
     "output_type": "execute_result"
    }
   ],
   "source": [
    "df_test"
   ]
  },
  {
   "cell_type": "markdown",
   "metadata": {},
   "source": [
    "* THE NUMBER OF FEMALES THAT SURVIVED "
   ]
  },
  {
   "cell_type": "code",
   "execution_count": 409,
   "metadata": {},
   "outputs": [
    {
     "data": {
      "text/html": [
       "<div>\n",
       "<style scoped>\n",
       "    .dataframe tbody tr th:only-of-type {\n",
       "        vertical-align: middle;\n",
       "    }\n",
       "\n",
       "    .dataframe tbody tr th {\n",
       "        vertical-align: top;\n",
       "    }\n",
       "\n",
       "    .dataframe thead th {\n",
       "        text-align: right;\n",
       "    }\n",
       "</style>\n",
       "<table border=\"1\" class=\"dataframe\">\n",
       "  <thead>\n",
       "    <tr style=\"text-align: right;\">\n",
       "      <th></th>\n",
       "      <th>PassengerId</th>\n",
       "      <th>Pclass</th>\n",
       "      <th>Name</th>\n",
       "      <th>Sex</th>\n",
       "      <th>Age</th>\n",
       "      <th>SibSp</th>\n",
       "      <th>Parch</th>\n",
       "      <th>Ticket</th>\n",
       "      <th>Fare</th>\n",
       "      <th>Cabin</th>\n",
       "      <th>Embarked</th>\n",
       "      <th>Survived</th>\n",
       "    </tr>\n",
       "  </thead>\n",
       "  <tbody>\n",
       "    <tr>\n",
       "      <th>4</th>\n",
       "      <td>896</td>\n",
       "      <td>3</td>\n",
       "      <td>Hirvonen, Mrs. Alexander (Helga E Lindqvist)</td>\n",
       "      <td>0</td>\n",
       "      <td>22.00000</td>\n",
       "      <td>1</td>\n",
       "      <td>1</td>\n",
       "      <td>3101298</td>\n",
       "      <td>12.2875</td>\n",
       "      <td>B96 B98</td>\n",
       "      <td>S</td>\n",
       "      <td>1</td>\n",
       "    </tr>\n",
       "    <tr>\n",
       "      <th>6</th>\n",
       "      <td>898</td>\n",
       "      <td>3</td>\n",
       "      <td>Connolly, Miss. Kate</td>\n",
       "      <td>0</td>\n",
       "      <td>30.00000</td>\n",
       "      <td>0</td>\n",
       "      <td>0</td>\n",
       "      <td>330972</td>\n",
       "      <td>7.6292</td>\n",
       "      <td>B96 B98</td>\n",
       "      <td>Q</td>\n",
       "      <td>1</td>\n",
       "    </tr>\n",
       "    <tr>\n",
       "      <th>8</th>\n",
       "      <td>900</td>\n",
       "      <td>3</td>\n",
       "      <td>Abrahim, Mrs. Joseph (Sophie Halaut Easu)</td>\n",
       "      <td>0</td>\n",
       "      <td>18.00000</td>\n",
       "      <td>0</td>\n",
       "      <td>0</td>\n",
       "      <td>2657</td>\n",
       "      <td>7.2292</td>\n",
       "      <td>B96 B98</td>\n",
       "      <td>C</td>\n",
       "      <td>1</td>\n",
       "    </tr>\n",
       "    <tr>\n",
       "      <th>12</th>\n",
       "      <td>904</td>\n",
       "      <td>1</td>\n",
       "      <td>Snyder, Mrs. John Pillsbury (Nelle Stevenson)</td>\n",
       "      <td>0</td>\n",
       "      <td>23.00000</td>\n",
       "      <td>1</td>\n",
       "      <td>0</td>\n",
       "      <td>21228</td>\n",
       "      <td>82.2667</td>\n",
       "      <td>B45</td>\n",
       "      <td>S</td>\n",
       "      <td>1</td>\n",
       "    </tr>\n",
       "    <tr>\n",
       "      <th>14</th>\n",
       "      <td>906</td>\n",
       "      <td>1</td>\n",
       "      <td>Chaffee, Mrs. Herbert Fuller (Carrie Constance...</td>\n",
       "      <td>0</td>\n",
       "      <td>47.00000</td>\n",
       "      <td>1</td>\n",
       "      <td>0</td>\n",
       "      <td>W.E.P. 5734</td>\n",
       "      <td>61.1750</td>\n",
       "      <td>E31</td>\n",
       "      <td>S</td>\n",
       "      <td>1</td>\n",
       "    </tr>\n",
       "    <tr>\n",
       "      <th>...</th>\n",
       "      <td>...</td>\n",
       "      <td>...</td>\n",
       "      <td>...</td>\n",
       "      <td>...</td>\n",
       "      <td>...</td>\n",
       "      <td>...</td>\n",
       "      <td>...</td>\n",
       "      <td>...</td>\n",
       "      <td>...</td>\n",
       "      <td>...</td>\n",
       "      <td>...</td>\n",
       "      <td>...</td>\n",
       "    </tr>\n",
       "    <tr>\n",
       "      <th>409</th>\n",
       "      <td>1301</td>\n",
       "      <td>3</td>\n",
       "      <td>Peacock, Miss. Treasteall</td>\n",
       "      <td>0</td>\n",
       "      <td>3.00000</td>\n",
       "      <td>1</td>\n",
       "      <td>1</td>\n",
       "      <td>SOTON/O.Q. 3101315</td>\n",
       "      <td>13.7750</td>\n",
       "      <td>B96 B98</td>\n",
       "      <td>S</td>\n",
       "      <td>1</td>\n",
       "    </tr>\n",
       "    <tr>\n",
       "      <th>410</th>\n",
       "      <td>1302</td>\n",
       "      <td>3</td>\n",
       "      <td>Naughton, Miss. Hannah</td>\n",
       "      <td>0</td>\n",
       "      <td>30.27259</td>\n",
       "      <td>0</td>\n",
       "      <td>0</td>\n",
       "      <td>365237</td>\n",
       "      <td>7.7500</td>\n",
       "      <td>B96 B98</td>\n",
       "      <td>Q</td>\n",
       "      <td>1</td>\n",
       "    </tr>\n",
       "    <tr>\n",
       "      <th>411</th>\n",
       "      <td>1303</td>\n",
       "      <td>1</td>\n",
       "      <td>Minahan, Mrs. William Edward (Lillian E Thorpe)</td>\n",
       "      <td>0</td>\n",
       "      <td>37.00000</td>\n",
       "      <td>1</td>\n",
       "      <td>0</td>\n",
       "      <td>19928</td>\n",
       "      <td>90.0000</td>\n",
       "      <td>C78</td>\n",
       "      <td>Q</td>\n",
       "      <td>1</td>\n",
       "    </tr>\n",
       "    <tr>\n",
       "      <th>412</th>\n",
       "      <td>1304</td>\n",
       "      <td>3</td>\n",
       "      <td>Henriksson, Miss. Jenny Lovisa</td>\n",
       "      <td>0</td>\n",
       "      <td>28.00000</td>\n",
       "      <td>0</td>\n",
       "      <td>0</td>\n",
       "      <td>347086</td>\n",
       "      <td>7.7750</td>\n",
       "      <td>B96 B98</td>\n",
       "      <td>S</td>\n",
       "      <td>1</td>\n",
       "    </tr>\n",
       "    <tr>\n",
       "      <th>414</th>\n",
       "      <td>1306</td>\n",
       "      <td>1</td>\n",
       "      <td>Oliva y Ocana, Dona. Fermina</td>\n",
       "      <td>0</td>\n",
       "      <td>39.00000</td>\n",
       "      <td>0</td>\n",
       "      <td>0</td>\n",
       "      <td>PC 17758</td>\n",
       "      <td>108.9000</td>\n",
       "      <td>C105</td>\n",
       "      <td>C</td>\n",
       "      <td>1</td>\n",
       "    </tr>\n",
       "  </tbody>\n",
       "</table>\n",
       "<p>147 rows × 12 columns</p>\n",
       "</div>"
      ],
      "text/plain": [
       "     PassengerId  Pclass                                               Name  \\\n",
       "4            896       3       Hirvonen, Mrs. Alexander (Helga E Lindqvist)   \n",
       "6            898       3                               Connolly, Miss. Kate   \n",
       "8            900       3          Abrahim, Mrs. Joseph (Sophie Halaut Easu)   \n",
       "12           904       1      Snyder, Mrs. John Pillsbury (Nelle Stevenson)   \n",
       "14           906       1  Chaffee, Mrs. Herbert Fuller (Carrie Constance...   \n",
       "..           ...     ...                                                ...   \n",
       "409         1301       3                          Peacock, Miss. Treasteall   \n",
       "410         1302       3                             Naughton, Miss. Hannah   \n",
       "411         1303       1    Minahan, Mrs. William Edward (Lillian E Thorpe)   \n",
       "412         1304       3                     Henriksson, Miss. Jenny Lovisa   \n",
       "414         1306       1                       Oliva y Ocana, Dona. Fermina   \n",
       "\n",
       "     Sex       Age  SibSp  Parch              Ticket      Fare    Cabin  \\\n",
       "4      0  22.00000      1      1             3101298   12.2875  B96 B98   \n",
       "6      0  30.00000      0      0              330972    7.6292  B96 B98   \n",
       "8      0  18.00000      0      0                2657    7.2292  B96 B98   \n",
       "12     0  23.00000      1      0               21228   82.2667      B45   \n",
       "14     0  47.00000      1      0         W.E.P. 5734   61.1750      E31   \n",
       "..   ...       ...    ...    ...                 ...       ...      ...   \n",
       "409    0   3.00000      1      1  SOTON/O.Q. 3101315   13.7750  B96 B98   \n",
       "410    0  30.27259      0      0              365237    7.7500  B96 B98   \n",
       "411    0  37.00000      1      0               19928   90.0000      C78   \n",
       "412    0  28.00000      0      0              347086    7.7750  B96 B98   \n",
       "414    0  39.00000      0      0            PC 17758  108.9000     C105   \n",
       "\n",
       "    Embarked  Survived  \n",
       "4          S         1  \n",
       "6          Q         1  \n",
       "8          C         1  \n",
       "12         S         1  \n",
       "14         S         1  \n",
       "..       ...       ...  \n",
       "409        S         1  \n",
       "410        Q         1  \n",
       "411        Q         1  \n",
       "412        S         1  \n",
       "414        C         1  \n",
       "\n",
       "[147 rows x 12 columns]"
      ]
     },
     "execution_count": 409,
     "metadata": {},
     "output_type": "execute_result"
    }
   ],
   "source": [
    "df_test[(df_test[\"Sex\"]== 0) & (df_test[\"Survived\"]==1)]  "
   ]
  },
  {
   "cell_type": "markdown",
   "metadata": {},
   "source": [
    "* NUMBER OF MALE THAT SURVIVED "
   ]
  },
  {
   "cell_type": "code",
   "execution_count": 410,
   "metadata": {},
   "outputs": [
    {
     "data": {
      "text/html": [
       "<div>\n",
       "<style scoped>\n",
       "    .dataframe tbody tr th:only-of-type {\n",
       "        vertical-align: middle;\n",
       "    }\n",
       "\n",
       "    .dataframe tbody tr th {\n",
       "        vertical-align: top;\n",
       "    }\n",
       "\n",
       "    .dataframe thead th {\n",
       "        text-align: right;\n",
       "    }\n",
       "</style>\n",
       "<table border=\"1\" class=\"dataframe\">\n",
       "  <thead>\n",
       "    <tr style=\"text-align: right;\">\n",
       "      <th></th>\n",
       "      <th>PassengerId</th>\n",
       "      <th>Pclass</th>\n",
       "      <th>Name</th>\n",
       "      <th>Sex</th>\n",
       "      <th>Age</th>\n",
       "      <th>SibSp</th>\n",
       "      <th>Parch</th>\n",
       "      <th>Ticket</th>\n",
       "      <th>Fare</th>\n",
       "      <th>Cabin</th>\n",
       "      <th>Embarked</th>\n",
       "      <th>Survived</th>\n",
       "    </tr>\n",
       "  </thead>\n",
       "  <tbody>\n",
       "    <tr>\n",
       "      <th>23</th>\n",
       "      <td>915</td>\n",
       "      <td>1</td>\n",
       "      <td>Williams, Mr. Richard Norris II</td>\n",
       "      <td>1</td>\n",
       "      <td>21.00000</td>\n",
       "      <td>0</td>\n",
       "      <td>1</td>\n",
       "      <td>PC 17597</td>\n",
       "      <td>61.3792</td>\n",
       "      <td>B96 B98</td>\n",
       "      <td>C</td>\n",
       "      <td>1</td>\n",
       "    </tr>\n",
       "    <tr>\n",
       "      <th>41</th>\n",
       "      <td>933</td>\n",
       "      <td>1</td>\n",
       "      <td>Franklin, Mr. Thomas Parham</td>\n",
       "      <td>1</td>\n",
       "      <td>30.27259</td>\n",
       "      <td>0</td>\n",
       "      <td>0</td>\n",
       "      <td>113778</td>\n",
       "      <td>26.5500</td>\n",
       "      <td>D34</td>\n",
       "      <td>S</td>\n",
       "      <td>1</td>\n",
       "    </tr>\n",
       "    <tr>\n",
       "      <th>64</th>\n",
       "      <td>956</td>\n",
       "      <td>1</td>\n",
       "      <td>Ryerson, Master. John Borie</td>\n",
       "      <td>1</td>\n",
       "      <td>13.00000</td>\n",
       "      <td>2</td>\n",
       "      <td>2</td>\n",
       "      <td>PC 17608</td>\n",
       "      <td>262.3750</td>\n",
       "      <td>B57 B59 B63 B66</td>\n",
       "      <td>C</td>\n",
       "      <td>1</td>\n",
       "    </tr>\n",
       "    <tr>\n",
       "      <th>73</th>\n",
       "      <td>965</td>\n",
       "      <td>1</td>\n",
       "      <td>Ovies y Rodriguez, Mr. Servando</td>\n",
       "      <td>1</td>\n",
       "      <td>28.50000</td>\n",
       "      <td>0</td>\n",
       "      <td>0</td>\n",
       "      <td>PC 17562</td>\n",
       "      <td>27.7208</td>\n",
       "      <td>D43</td>\n",
       "      <td>C</td>\n",
       "      <td>1</td>\n",
       "    </tr>\n",
       "    <tr>\n",
       "      <th>75</th>\n",
       "      <td>967</td>\n",
       "      <td>1</td>\n",
       "      <td>Keeping, Mr. Edwin</td>\n",
       "      <td>1</td>\n",
       "      <td>32.50000</td>\n",
       "      <td>0</td>\n",
       "      <td>0</td>\n",
       "      <td>113503</td>\n",
       "      <td>211.5000</td>\n",
       "      <td>C132</td>\n",
       "      <td>C</td>\n",
       "      <td>1</td>\n",
       "    </tr>\n",
       "    <tr>\n",
       "      <th>94</th>\n",
       "      <td>986</td>\n",
       "      <td>1</td>\n",
       "      <td>Birnbaum, Mr. Jakob</td>\n",
       "      <td>1</td>\n",
       "      <td>25.00000</td>\n",
       "      <td>0</td>\n",
       "      <td>0</td>\n",
       "      <td>13905</td>\n",
       "      <td>26.0000</td>\n",
       "      <td>B96 B98</td>\n",
       "      <td>C</td>\n",
       "      <td>1</td>\n",
       "    </tr>\n",
       "    <tr>\n",
       "      <th>118</th>\n",
       "      <td>1010</td>\n",
       "      <td>1</td>\n",
       "      <td>Beattie, Mr. Thomson</td>\n",
       "      <td>1</td>\n",
       "      <td>36.00000</td>\n",
       "      <td>0</td>\n",
       "      <td>0</td>\n",
       "      <td>13050</td>\n",
       "      <td>75.2417</td>\n",
       "      <td>C6</td>\n",
       "      <td>C</td>\n",
       "      <td>1</td>\n",
       "    </tr>\n",
       "    <tr>\n",
       "      <th>146</th>\n",
       "      <td>1038</td>\n",
       "      <td>1</td>\n",
       "      <td>Hilliard, Mr. Herbert Henry</td>\n",
       "      <td>1</td>\n",
       "      <td>30.27259</td>\n",
       "      <td>0</td>\n",
       "      <td>0</td>\n",
       "      <td>17463</td>\n",
       "      <td>51.8625</td>\n",
       "      <td>E46</td>\n",
       "      <td>S</td>\n",
       "      <td>1</td>\n",
       "    </tr>\n",
       "    <tr>\n",
       "      <th>148</th>\n",
       "      <td>1040</td>\n",
       "      <td>1</td>\n",
       "      <td>Crafton, Mr. John Bertram</td>\n",
       "      <td>1</td>\n",
       "      <td>30.27259</td>\n",
       "      <td>0</td>\n",
       "      <td>0</td>\n",
       "      <td>113791</td>\n",
       "      <td>26.5500</td>\n",
       "      <td>B96 B98</td>\n",
       "      <td>S</td>\n",
       "      <td>1</td>\n",
       "    </tr>\n",
       "    <tr>\n",
       "      <th>191</th>\n",
       "      <td>1083</td>\n",
       "      <td>1</td>\n",
       "      <td>Salomon, Mr. Abraham L</td>\n",
       "      <td>1</td>\n",
       "      <td>30.27259</td>\n",
       "      <td>0</td>\n",
       "      <td>0</td>\n",
       "      <td>111163</td>\n",
       "      <td>26.0000</td>\n",
       "      <td>B96 B98</td>\n",
       "      <td>S</td>\n",
       "      <td>1</td>\n",
       "    </tr>\n",
       "    <tr>\n",
       "      <th>196</th>\n",
       "      <td>1088</td>\n",
       "      <td>1</td>\n",
       "      <td>Spedden, Master. Robert Douglas</td>\n",
       "      <td>1</td>\n",
       "      <td>6.00000</td>\n",
       "      <td>0</td>\n",
       "      <td>2</td>\n",
       "      <td>16966</td>\n",
       "      <td>134.5000</td>\n",
       "      <td>E34</td>\n",
       "      <td>C</td>\n",
       "      <td>1</td>\n",
       "    </tr>\n",
       "    <tr>\n",
       "      <th>205</th>\n",
       "      <td>1097</td>\n",
       "      <td>1</td>\n",
       "      <td>Omont, Mr. Alfred Fernand</td>\n",
       "      <td>1</td>\n",
       "      <td>30.27259</td>\n",
       "      <td>0</td>\n",
       "      <td>0</td>\n",
       "      <td>F.C. 12998</td>\n",
       "      <td>25.7417</td>\n",
       "      <td>B96 B98</td>\n",
       "      <td>C</td>\n",
       "      <td>1</td>\n",
       "    </tr>\n",
       "    <tr>\n",
       "      <th>252</th>\n",
       "      <td>1144</td>\n",
       "      <td>1</td>\n",
       "      <td>Clark, Mr. Walter Miller</td>\n",
       "      <td>1</td>\n",
       "      <td>27.00000</td>\n",
       "      <td>1</td>\n",
       "      <td>0</td>\n",
       "      <td>13508</td>\n",
       "      <td>136.7792</td>\n",
       "      <td>C89</td>\n",
       "      <td>C</td>\n",
       "      <td>1</td>\n",
       "    </tr>\n",
       "    <tr>\n",
       "      <th>266</th>\n",
       "      <td>1158</td>\n",
       "      <td>1</td>\n",
       "      <td>Chisholm, Mr. Roderick Robert Crispin</td>\n",
       "      <td>1</td>\n",
       "      <td>30.27259</td>\n",
       "      <td>0</td>\n",
       "      <td>0</td>\n",
       "      <td>112051</td>\n",
       "      <td>0.0000</td>\n",
       "      <td>B96 B98</td>\n",
       "      <td>S</td>\n",
       "      <td>1</td>\n",
       "    </tr>\n",
       "    <tr>\n",
       "      <th>287</th>\n",
       "      <td>1179</td>\n",
       "      <td>1</td>\n",
       "      <td>Snyder, Mr. John Pillsbury</td>\n",
       "      <td>1</td>\n",
       "      <td>24.00000</td>\n",
       "      <td>1</td>\n",
       "      <td>0</td>\n",
       "      <td>21228</td>\n",
       "      <td>82.2667</td>\n",
       "      <td>B45</td>\n",
       "      <td>S</td>\n",
       "      <td>1</td>\n",
       "    </tr>\n",
       "    <tr>\n",
       "      <th>290</th>\n",
       "      <td>1182</td>\n",
       "      <td>1</td>\n",
       "      <td>Rheims, Mr. George Alexander Lucien</td>\n",
       "      <td>1</td>\n",
       "      <td>30.27259</td>\n",
       "      <td>0</td>\n",
       "      <td>0</td>\n",
       "      <td>PC 17607</td>\n",
       "      <td>39.6000</td>\n",
       "      <td>B96 B98</td>\n",
       "      <td>S</td>\n",
       "      <td>1</td>\n",
       "    </tr>\n",
       "    <tr>\n",
       "      <th>298</th>\n",
       "      <td>1190</td>\n",
       "      <td>1</td>\n",
       "      <td>Loring, Mr. Joseph Holland</td>\n",
       "      <td>1</td>\n",
       "      <td>30.00000</td>\n",
       "      <td>0</td>\n",
       "      <td>0</td>\n",
       "      <td>113801</td>\n",
       "      <td>45.5000</td>\n",
       "      <td>B96 B98</td>\n",
       "      <td>S</td>\n",
       "      <td>1</td>\n",
       "    </tr>\n",
       "    <tr>\n",
       "      <th>323</th>\n",
       "      <td>1215</td>\n",
       "      <td>1</td>\n",
       "      <td>Rowe, Mr. Alfred G</td>\n",
       "      <td>1</td>\n",
       "      <td>33.00000</td>\n",
       "      <td>0</td>\n",
       "      <td>0</td>\n",
       "      <td>113790</td>\n",
       "      <td>26.5500</td>\n",
       "      <td>B96 B98</td>\n",
       "      <td>S</td>\n",
       "      <td>1</td>\n",
       "    </tr>\n",
       "    <tr>\n",
       "      <th>335</th>\n",
       "      <td>1227</td>\n",
       "      <td>1</td>\n",
       "      <td>Maguire, Mr. John Edward</td>\n",
       "      <td>1</td>\n",
       "      <td>30.00000</td>\n",
       "      <td>0</td>\n",
       "      <td>0</td>\n",
       "      <td>110469</td>\n",
       "      <td>26.0000</td>\n",
       "      <td>C106</td>\n",
       "      <td>S</td>\n",
       "      <td>1</td>\n",
       "    </tr>\n",
       "    <tr>\n",
       "      <th>390</th>\n",
       "      <td>1282</td>\n",
       "      <td>1</td>\n",
       "      <td>Payne, Mr. Vivian Ponsonby</td>\n",
       "      <td>1</td>\n",
       "      <td>23.00000</td>\n",
       "      <td>0</td>\n",
       "      <td>0</td>\n",
       "      <td>12749</td>\n",
       "      <td>93.5000</td>\n",
       "      <td>B24</td>\n",
       "      <td>S</td>\n",
       "      <td>1</td>\n",
       "    </tr>\n",
       "    <tr>\n",
       "      <th>403</th>\n",
       "      <td>1295</td>\n",
       "      <td>1</td>\n",
       "      <td>Carrau, Mr. Jose Pedro</td>\n",
       "      <td>1</td>\n",
       "      <td>17.00000</td>\n",
       "      <td>0</td>\n",
       "      <td>0</td>\n",
       "      <td>113059</td>\n",
       "      <td>47.1000</td>\n",
       "      <td>B96 B98</td>\n",
       "      <td>S</td>\n",
       "      <td>1</td>\n",
       "    </tr>\n",
       "  </tbody>\n",
       "</table>\n",
       "</div>"
      ],
      "text/plain": [
       "     PassengerId  Pclass                                   Name  Sex  \\\n",
       "23           915       1        Williams, Mr. Richard Norris II    1   \n",
       "41           933       1            Franklin, Mr. Thomas Parham    1   \n",
       "64           956       1            Ryerson, Master. John Borie    1   \n",
       "73           965       1        Ovies y Rodriguez, Mr. Servando    1   \n",
       "75           967       1                     Keeping, Mr. Edwin    1   \n",
       "94           986       1                    Birnbaum, Mr. Jakob    1   \n",
       "118         1010       1                   Beattie, Mr. Thomson    1   \n",
       "146         1038       1            Hilliard, Mr. Herbert Henry    1   \n",
       "148         1040       1              Crafton, Mr. John Bertram    1   \n",
       "191         1083       1                 Salomon, Mr. Abraham L    1   \n",
       "196         1088       1        Spedden, Master. Robert Douglas    1   \n",
       "205         1097       1              Omont, Mr. Alfred Fernand    1   \n",
       "252         1144       1               Clark, Mr. Walter Miller    1   \n",
       "266         1158       1  Chisholm, Mr. Roderick Robert Crispin    1   \n",
       "287         1179       1             Snyder, Mr. John Pillsbury    1   \n",
       "290         1182       1    Rheims, Mr. George Alexander Lucien    1   \n",
       "298         1190       1             Loring, Mr. Joseph Holland    1   \n",
       "323         1215       1                     Rowe, Mr. Alfred G    1   \n",
       "335         1227       1               Maguire, Mr. John Edward    1   \n",
       "390         1282       1             Payne, Mr. Vivian Ponsonby    1   \n",
       "403         1295       1                 Carrau, Mr. Jose Pedro    1   \n",
       "\n",
       "          Age  SibSp  Parch      Ticket      Fare            Cabin Embarked  \\\n",
       "23   21.00000      0      1    PC 17597   61.3792          B96 B98        C   \n",
       "41   30.27259      0      0      113778   26.5500              D34        S   \n",
       "64   13.00000      2      2    PC 17608  262.3750  B57 B59 B63 B66        C   \n",
       "73   28.50000      0      0    PC 17562   27.7208              D43        C   \n",
       "75   32.50000      0      0      113503  211.5000             C132        C   \n",
       "94   25.00000      0      0       13905   26.0000          B96 B98        C   \n",
       "118  36.00000      0      0       13050   75.2417               C6        C   \n",
       "146  30.27259      0      0       17463   51.8625              E46        S   \n",
       "148  30.27259      0      0      113791   26.5500          B96 B98        S   \n",
       "191  30.27259      0      0      111163   26.0000          B96 B98        S   \n",
       "196   6.00000      0      2       16966  134.5000              E34        C   \n",
       "205  30.27259      0      0  F.C. 12998   25.7417          B96 B98        C   \n",
       "252  27.00000      1      0       13508  136.7792              C89        C   \n",
       "266  30.27259      0      0      112051    0.0000          B96 B98        S   \n",
       "287  24.00000      1      0       21228   82.2667              B45        S   \n",
       "290  30.27259      0      0    PC 17607   39.6000          B96 B98        S   \n",
       "298  30.00000      0      0      113801   45.5000          B96 B98        S   \n",
       "323  33.00000      0      0      113790   26.5500          B96 B98        S   \n",
       "335  30.00000      0      0      110469   26.0000             C106        S   \n",
       "390  23.00000      0      0       12749   93.5000              B24        S   \n",
       "403  17.00000      0      0      113059   47.1000          B96 B98        S   \n",
       "\n",
       "     Survived  \n",
       "23          1  \n",
       "41          1  \n",
       "64          1  \n",
       "73          1  \n",
       "75          1  \n",
       "94          1  \n",
       "118         1  \n",
       "146         1  \n",
       "148         1  \n",
       "191         1  \n",
       "196         1  \n",
       "205         1  \n",
       "252         1  \n",
       "266         1  \n",
       "287         1  \n",
       "290         1  \n",
       "298         1  \n",
       "323         1  \n",
       "335         1  \n",
       "390         1  \n",
       "403         1  "
      ]
     },
     "execution_count": 410,
     "metadata": {},
     "output_type": "execute_result"
    }
   ],
   "source": [
    "df_test[(df_test[\"Sex\"]==1) & (df_test[\"Survived\"]==1)]"
   ]
  },
  {
   "cell_type": "code",
   "execution_count": 411,
   "metadata": {},
   "outputs": [],
   "source": [
    "No_of_Survived = len([x for x in y_pred if x == 1])"
   ]
  },
  {
   "cell_type": "code",
   "execution_count": 412,
   "metadata": {},
   "outputs": [
    {
     "data": {
      "text/plain": [
       "168"
      ]
     },
     "execution_count": 412,
     "metadata": {},
     "output_type": "execute_result"
    }
   ],
   "source": [
    "No_of_Survived"
   ]
  },
  {
   "cell_type": "code",
   "execution_count": 413,
   "metadata": {},
   "outputs": [],
   "source": [
    "No_of_Perish = len([x for x in y_pred if x ==0])"
   ]
  },
  {
   "cell_type": "code",
   "execution_count": 414,
   "metadata": {},
   "outputs": [
    {
     "data": {
      "text/plain": [
       "250"
      ]
     },
     "execution_count": 414,
     "metadata": {},
     "output_type": "execute_result"
    }
   ],
   "source": [
    "No_of_Perish"
   ]
  },
  {
   "cell_type": "markdown",
   "metadata": {},
   "source": [
    "##### MODEL 2\n",
    "* RANDOM FOREST classifier"
   ]
  },
  {
   "cell_type": "code",
   "execution_count": 415,
   "metadata": {},
   "outputs": [],
   "source": [
    "from sklearn.ensemble import RandomForestClassifier"
   ]
  },
  {
   "cell_type": "code",
   "execution_count": 416,
   "metadata": {},
   "outputs": [],
   "source": [
    "model2 = RandomForestClassifier()"
   ]
  },
  {
   "cell_type": "code",
   "execution_count": 417,
   "metadata": {},
   "outputs": [],
   "source": [
    "clf = RandomForestClassifier(max_depth=2, random_state=2)"
   ]
  },
  {
   "cell_type": "code",
   "execution_count": 418,
   "metadata": {},
   "outputs": [
    {
     "data": {
      "text/plain": [
       "RandomForestClassifier(max_depth=2, random_state=2)"
      ]
     },
     "execution_count": 418,
     "metadata": {},
     "output_type": "execute_result"
    }
   ],
   "source": [
    "clf.fit(x_train,y_train)"
   ]
  },
  {
   "cell_type": "code",
   "execution_count": 419,
   "metadata": {},
   "outputs": [
    {
     "data": {
      "text/plain": [
       "array([0, 0, 0, 0, 0, 0, 0, 0, 0, 0, 0, 0, 1, 0, 1, 1, 0, 0, 0, 0, 0, 0,\n",
       "       1, 0, 1, 0, 1, 0, 0, 0, 0, 0, 0, 0, 0, 0, 0, 0, 0, 0, 0, 0, 0, 1,\n",
       "       1, 0, 0, 0, 1, 0, 0, 0, 1, 1, 0, 0, 0, 0, 0, 1, 0, 0, 0, 0, 0, 1,\n",
       "       0, 0, 0, 1, 0, 0, 0, 0, 1, 0, 0, 1, 0, 0, 0, 0, 0, 0, 0, 0, 0, 0,\n",
       "       0, 1, 0, 0, 1, 0, 0, 0, 1, 0, 0, 0, 1, 0, 0, 0, 0, 0, 0, 0, 0, 0,\n",
       "       0, 0, 1, 0, 1, 0, 0, 1, 0, 1, 1, 0, 1, 0, 0, 0, 0, 0, 0, 0, 0, 0,\n",
       "       0, 0, 0, 0, 0, 0, 0, 0, 0, 1, 0, 0, 0, 0, 0, 0, 0, 0, 1, 0, 0, 0,\n",
       "       0, 0, 1, 0, 0, 0, 0, 0, 1, 0, 0, 0, 0, 0, 1, 0, 0, 0, 0, 0, 0, 1,\n",
       "       1, 0, 1, 1, 0, 0, 1, 0, 1, 0, 1, 0, 0, 0, 0, 0, 0, 0, 0, 0, 1, 0,\n",
       "       0, 0, 0, 0, 0, 1, 0, 0, 0, 0, 1, 0, 0, 0, 0, 1, 0, 0, 0, 0, 1, 0,\n",
       "       1, 0, 1, 0, 1, 0, 0, 0, 0, 0, 0, 1, 0, 0, 0, 0, 0, 0, 1, 1, 1, 1,\n",
       "       0, 0, 0, 0, 1, 0, 1, 0, 1, 0, 0, 0, 0, 0, 0, 0, 1, 0, 0, 0, 1, 1,\n",
       "       0, 0, 0, 0, 0, 0, 0, 0, 1, 0, 0, 1, 0, 0, 0, 0, 0, 0, 0, 0, 1, 0,\n",
       "       0, 0, 0, 0, 0, 0, 0, 0, 0, 0, 1, 0, 0, 0, 0, 0, 0, 0, 0, 1, 0, 0,\n",
       "       0, 0, 0, 0, 0, 0, 1, 0, 0, 0, 0, 0, 0, 0, 0, 0, 1, 0, 1, 0, 0, 0,\n",
       "       1, 0, 0, 0, 0, 0, 0, 0, 0, 0, 0, 0, 0, 1, 0, 0, 0, 0, 0, 1, 1, 0,\n",
       "       0, 0, 1, 0, 1, 0, 0, 0, 0, 1, 1, 0, 1, 0, 0, 0, 1, 0, 0, 1, 0, 0,\n",
       "       1, 1, 0, 0, 0, 0, 0, 0, 0, 0, 0, 1, 0, 0, 0, 0, 0, 1, 0, 0, 0, 1,\n",
       "       0, 1, 0, 0, 1, 0, 1, 0, 0, 0, 0, 0, 0, 1, 0, 1, 0, 0, 1, 0, 0, 0],\n",
       "      dtype=int64)"
      ]
     },
     "execution_count": 419,
     "metadata": {},
     "output_type": "execute_result"
    }
   ],
   "source": [
    "prediction=clf.predict(x_sample)\n",
    "prediction"
   ]
  },
  {
   "cell_type": "code",
   "execution_count": 420,
   "metadata": {},
   "outputs": [
    {
     "data": {
      "text/plain": [
       "0.8146067415730337"
      ]
     },
     "execution_count": 420,
     "metadata": {},
     "output_type": "execute_result"
    }
   ],
   "source": [
    "clf.score(x_train,y_train)"
   ]
  },
  {
   "cell_type": "code",
   "execution_count": 421,
   "metadata": {},
   "outputs": [
    {
     "data": {
      "text/plain": [
       "0.776536312849162"
      ]
     },
     "execution_count": 421,
     "metadata": {},
     "output_type": "execute_result"
    }
   ],
   "source": [
    "clf.score(x_test,y_test)"
   ]
  },
  {
   "cell_type": "code",
   "execution_count": 422,
   "metadata": {},
   "outputs": [],
   "source": [
    "df_test[\"Survived2\"] = prediction"
   ]
  },
  {
   "cell_type": "code",
   "execution_count": 423,
   "metadata": {},
   "outputs": [
    {
     "data": {
      "text/html": [
       "<div>\n",
       "<style scoped>\n",
       "    .dataframe tbody tr th:only-of-type {\n",
       "        vertical-align: middle;\n",
       "    }\n",
       "\n",
       "    .dataframe tbody tr th {\n",
       "        vertical-align: top;\n",
       "    }\n",
       "\n",
       "    .dataframe thead th {\n",
       "        text-align: right;\n",
       "    }\n",
       "</style>\n",
       "<table border=\"1\" class=\"dataframe\">\n",
       "  <thead>\n",
       "    <tr style=\"text-align: right;\">\n",
       "      <th></th>\n",
       "      <th>PassengerId</th>\n",
       "      <th>Pclass</th>\n",
       "      <th>Name</th>\n",
       "      <th>Sex</th>\n",
       "      <th>Age</th>\n",
       "      <th>SibSp</th>\n",
       "      <th>Parch</th>\n",
       "      <th>Ticket</th>\n",
       "      <th>Fare</th>\n",
       "      <th>Cabin</th>\n",
       "      <th>Embarked</th>\n",
       "      <th>Survived</th>\n",
       "      <th>Survived2</th>\n",
       "    </tr>\n",
       "  </thead>\n",
       "  <tbody>\n",
       "    <tr>\n",
       "      <th>0</th>\n",
       "      <td>892</td>\n",
       "      <td>3</td>\n",
       "      <td>Kelly, Mr. James</td>\n",
       "      <td>1</td>\n",
       "      <td>34.50000</td>\n",
       "      <td>0</td>\n",
       "      <td>0</td>\n",
       "      <td>330911</td>\n",
       "      <td>7.8292</td>\n",
       "      <td>B96 B98</td>\n",
       "      <td>Q</td>\n",
       "      <td>0</td>\n",
       "      <td>0</td>\n",
       "    </tr>\n",
       "    <tr>\n",
       "      <th>1</th>\n",
       "      <td>893</td>\n",
       "      <td>3</td>\n",
       "      <td>Wilkes, Mrs. James (Ellen Needs)</td>\n",
       "      <td>0</td>\n",
       "      <td>47.00000</td>\n",
       "      <td>1</td>\n",
       "      <td>0</td>\n",
       "      <td>363272</td>\n",
       "      <td>7.0000</td>\n",
       "      <td>B96 B98</td>\n",
       "      <td>S</td>\n",
       "      <td>0</td>\n",
       "      <td>0</td>\n",
       "    </tr>\n",
       "    <tr>\n",
       "      <th>2</th>\n",
       "      <td>894</td>\n",
       "      <td>2</td>\n",
       "      <td>Myles, Mr. Thomas Francis</td>\n",
       "      <td>1</td>\n",
       "      <td>62.00000</td>\n",
       "      <td>0</td>\n",
       "      <td>0</td>\n",
       "      <td>240276</td>\n",
       "      <td>9.6875</td>\n",
       "      <td>B96 B98</td>\n",
       "      <td>Q</td>\n",
       "      <td>0</td>\n",
       "      <td>0</td>\n",
       "    </tr>\n",
       "    <tr>\n",
       "      <th>3</th>\n",
       "      <td>895</td>\n",
       "      <td>3</td>\n",
       "      <td>Wirz, Mr. Albert</td>\n",
       "      <td>1</td>\n",
       "      <td>27.00000</td>\n",
       "      <td>0</td>\n",
       "      <td>0</td>\n",
       "      <td>315154</td>\n",
       "      <td>8.6625</td>\n",
       "      <td>B96 B98</td>\n",
       "      <td>S</td>\n",
       "      <td>0</td>\n",
       "      <td>0</td>\n",
       "    </tr>\n",
       "    <tr>\n",
       "      <th>4</th>\n",
       "      <td>896</td>\n",
       "      <td>3</td>\n",
       "      <td>Hirvonen, Mrs. Alexander (Helga E Lindqvist)</td>\n",
       "      <td>0</td>\n",
       "      <td>22.00000</td>\n",
       "      <td>1</td>\n",
       "      <td>1</td>\n",
       "      <td>3101298</td>\n",
       "      <td>12.2875</td>\n",
       "      <td>B96 B98</td>\n",
       "      <td>S</td>\n",
       "      <td>1</td>\n",
       "      <td>0</td>\n",
       "    </tr>\n",
       "    <tr>\n",
       "      <th>...</th>\n",
       "      <td>...</td>\n",
       "      <td>...</td>\n",
       "      <td>...</td>\n",
       "      <td>...</td>\n",
       "      <td>...</td>\n",
       "      <td>...</td>\n",
       "      <td>...</td>\n",
       "      <td>...</td>\n",
       "      <td>...</td>\n",
       "      <td>...</td>\n",
       "      <td>...</td>\n",
       "      <td>...</td>\n",
       "      <td>...</td>\n",
       "    </tr>\n",
       "    <tr>\n",
       "      <th>413</th>\n",
       "      <td>1305</td>\n",
       "      <td>3</td>\n",
       "      <td>Spector, Mr. Woolf</td>\n",
       "      <td>1</td>\n",
       "      <td>30.27259</td>\n",
       "      <td>0</td>\n",
       "      <td>0</td>\n",
       "      <td>A.5. 3236</td>\n",
       "      <td>8.0500</td>\n",
       "      <td>B96 B98</td>\n",
       "      <td>S</td>\n",
       "      <td>0</td>\n",
       "      <td>0</td>\n",
       "    </tr>\n",
       "    <tr>\n",
       "      <th>414</th>\n",
       "      <td>1306</td>\n",
       "      <td>1</td>\n",
       "      <td>Oliva y Ocana, Dona. Fermina</td>\n",
       "      <td>0</td>\n",
       "      <td>39.00000</td>\n",
       "      <td>0</td>\n",
       "      <td>0</td>\n",
       "      <td>PC 17758</td>\n",
       "      <td>108.9000</td>\n",
       "      <td>C105</td>\n",
       "      <td>C</td>\n",
       "      <td>1</td>\n",
       "      <td>1</td>\n",
       "    </tr>\n",
       "    <tr>\n",
       "      <th>415</th>\n",
       "      <td>1307</td>\n",
       "      <td>3</td>\n",
       "      <td>Saether, Mr. Simon Sivertsen</td>\n",
       "      <td>1</td>\n",
       "      <td>38.50000</td>\n",
       "      <td>0</td>\n",
       "      <td>0</td>\n",
       "      <td>SOTON/O.Q. 3101262</td>\n",
       "      <td>7.2500</td>\n",
       "      <td>B96 B98</td>\n",
       "      <td>S</td>\n",
       "      <td>0</td>\n",
       "      <td>0</td>\n",
       "    </tr>\n",
       "    <tr>\n",
       "      <th>416</th>\n",
       "      <td>1308</td>\n",
       "      <td>3</td>\n",
       "      <td>Ware, Mr. Frederick</td>\n",
       "      <td>1</td>\n",
       "      <td>30.27259</td>\n",
       "      <td>0</td>\n",
       "      <td>0</td>\n",
       "      <td>359309</td>\n",
       "      <td>8.0500</td>\n",
       "      <td>B96 B98</td>\n",
       "      <td>S</td>\n",
       "      <td>0</td>\n",
       "      <td>0</td>\n",
       "    </tr>\n",
       "    <tr>\n",
       "      <th>417</th>\n",
       "      <td>1309</td>\n",
       "      <td>3</td>\n",
       "      <td>Peter, Master. Michael J</td>\n",
       "      <td>1</td>\n",
       "      <td>30.27259</td>\n",
       "      <td>1</td>\n",
       "      <td>1</td>\n",
       "      <td>2668</td>\n",
       "      <td>22.3583</td>\n",
       "      <td>B96 B98</td>\n",
       "      <td>C</td>\n",
       "      <td>0</td>\n",
       "      <td>0</td>\n",
       "    </tr>\n",
       "  </tbody>\n",
       "</table>\n",
       "<p>418 rows × 13 columns</p>\n",
       "</div>"
      ],
      "text/plain": [
       "     PassengerId  Pclass                                          Name  Sex  \\\n",
       "0            892       3                              Kelly, Mr. James    1   \n",
       "1            893       3              Wilkes, Mrs. James (Ellen Needs)    0   \n",
       "2            894       2                     Myles, Mr. Thomas Francis    1   \n",
       "3            895       3                              Wirz, Mr. Albert    1   \n",
       "4            896       3  Hirvonen, Mrs. Alexander (Helga E Lindqvist)    0   \n",
       "..           ...     ...                                           ...  ...   \n",
       "413         1305       3                            Spector, Mr. Woolf    1   \n",
       "414         1306       1                  Oliva y Ocana, Dona. Fermina    0   \n",
       "415         1307       3                  Saether, Mr. Simon Sivertsen    1   \n",
       "416         1308       3                           Ware, Mr. Frederick    1   \n",
       "417         1309       3                      Peter, Master. Michael J    1   \n",
       "\n",
       "          Age  SibSp  Parch              Ticket      Fare    Cabin Embarked  \\\n",
       "0    34.50000      0      0              330911    7.8292  B96 B98        Q   \n",
       "1    47.00000      1      0              363272    7.0000  B96 B98        S   \n",
       "2    62.00000      0      0              240276    9.6875  B96 B98        Q   \n",
       "3    27.00000      0      0              315154    8.6625  B96 B98        S   \n",
       "4    22.00000      1      1             3101298   12.2875  B96 B98        S   \n",
       "..        ...    ...    ...                 ...       ...      ...      ...   \n",
       "413  30.27259      0      0           A.5. 3236    8.0500  B96 B98        S   \n",
       "414  39.00000      0      0            PC 17758  108.9000     C105        C   \n",
       "415  38.50000      0      0  SOTON/O.Q. 3101262    7.2500  B96 B98        S   \n",
       "416  30.27259      0      0              359309    8.0500  B96 B98        S   \n",
       "417  30.27259      1      1                2668   22.3583  B96 B98        C   \n",
       "\n",
       "     Survived  Survived2  \n",
       "0           0          0  \n",
       "1           0          0  \n",
       "2           0          0  \n",
       "3           0          0  \n",
       "4           1          0  \n",
       "..        ...        ...  \n",
       "413         0          0  \n",
       "414         1          1  \n",
       "415         0          0  \n",
       "416         0          0  \n",
       "417         0          0  \n",
       "\n",
       "[418 rows x 13 columns]"
      ]
     },
     "execution_count": 423,
     "metadata": {},
     "output_type": "execute_result"
    }
   ],
   "source": [
    "df_test"
   ]
  },
  {
   "cell_type": "markdown",
   "metadata": {},
   "source": [
    "* LogisticRegression perform better than Randomforest(which is assemble of decision tree algorithm)"
   ]
  },
  {
   "cell_type": "markdown",
   "metadata": {},
   "source": [
    "##### MODEL 3\n",
    "* NEURAL NETWORK "
   ]
  },
  {
   "cell_type": "code",
   "execution_count": 424,
   "metadata": {},
   "outputs": [],
   "source": [
    "import keras\n",
    "from keras.models import Sequential\n",
    "from keras.layers import Dense, Flatten, Dropout\n",
    "from keras.optimizers import tf\n",
    "from keras.utils import np_utils"
   ]
  },
  {
   "cell_type": "code",
   "execution_count": 425,
   "metadata": {},
   "outputs": [],
   "source": [
    "model3 = Sequential()\n",
    "model3.add(Dense(units=600, activation=\"sigmoid\",input_shape=(7,)))\n",
    "model3.add(Dropout(0.2))\n",
    "model3.add(Dense(units=80, activation=\"sigmoid\"))\n",
    "model3.add(Dropout(0.2))\n",
    "model3.add(Dense(units=80, activation=\"sigmoid\"))\n",
    "model3.add(Flatten())\n",
    "model3.add(Dense(units=1, activation=\"sigmoid\"))"
   ]
  },
  {
   "cell_type": "code",
   "execution_count": 426,
   "metadata": {},
   "outputs": [],
   "source": [
    "model3.compile(loss=\"binary_crossentropy\",optimizer=\"Adam\", metrics=[\"accuracy\"])"
   ]
  },
  {
   "cell_type": "code",
   "execution_count": 427,
   "metadata": {},
   "outputs": [],
   "source": [
    "epoch_range = 10"
   ]
  },
  {
   "cell_type": "code",
   "execution_count": 428,
   "metadata": {},
   "outputs": [
    {
     "name": "stdout",
     "output_type": "stream",
     "text": [
      "Epoch 1/10\n",
      "23/23 [==============================] - 2s 25ms/step - loss: 0.6677 - accuracy: 0.6264 - val_loss: 0.6654 - val_accuracy: 0.5866\n",
      "Epoch 2/10\n",
      "23/23 [==============================] - 0s 18ms/step - loss: 0.6545 - accuracy: 0.6348 - val_loss: 0.6500 - val_accuracy: 0.6313\n",
      "Epoch 3/10\n",
      "23/23 [==============================] - 0s 15ms/step - loss: 0.6387 - accuracy: 0.6320 - val_loss: 0.6377 - val_accuracy: 0.5978\n",
      "Epoch 4/10\n",
      "23/23 [==============================] - 0s 17ms/step - loss: 0.6304 - accuracy: 0.6573 - val_loss: 0.6502 - val_accuracy: 0.6257\n",
      "Epoch 5/10\n",
      "23/23 [==============================] - 0s 15ms/step - loss: 0.6266 - accuracy: 0.6629 - val_loss: 0.5923 - val_accuracy: 0.6983\n",
      "Epoch 6/10\n",
      "23/23 [==============================] - 0s 15ms/step - loss: 0.6159 - accuracy: 0.6699 - val_loss: 0.6038 - val_accuracy: 0.6816\n",
      "Epoch 7/10\n",
      "23/23 [==============================] - 0s 16ms/step - loss: 0.6179 - accuracy: 0.6756 - val_loss: 0.6200 - val_accuracy: 0.6704\n",
      "Epoch 8/10\n",
      "23/23 [==============================] - 0s 19ms/step - loss: 0.6044 - accuracy: 0.6826 - val_loss: 0.5778 - val_accuracy: 0.7374\n",
      "Epoch 9/10\n",
      "23/23 [==============================] - 0s 17ms/step - loss: 0.6002 - accuracy: 0.6784 - val_loss: 0.5661 - val_accuracy: 0.7374\n",
      "Epoch 10/10\n",
      "23/23 [==============================] - 0s 17ms/step - loss: 0.5950 - accuracy: 0.6938 - val_loss: 0.6223 - val_accuracy: 0.6704\n"
     ]
    },
    {
     "data": {
      "text/plain": [
       "<keras.callbacks.History at 0x180e3d3ef48>"
      ]
     },
     "execution_count": 428,
     "metadata": {},
     "output_type": "execute_result"
    }
   ],
   "source": [
    "history3 = model3.fit(x_train,y_train,epochs=epoch_range,validation_data=(x_test,y_test))\n",
    "history3"
   ]
  },
  {
   "cell_type": "code",
   "execution_count": 429,
   "metadata": {},
   "outputs": [],
   "source": [
    "acc = history3.history[\"accuracy\"]\n",
    "val_acc = history3.history[\"val_accuracy\"]\n",
    "\n",
    "loss = history3.history[\"loss\"]\n",
    "val_loss = history3.history[\"val_loss\"]"
   ]
  },
  {
   "cell_type": "code",
   "execution_count": 430,
   "metadata": {},
   "outputs": [],
   "source": [
    "def plot_graph(validation_data, training_data, graph_type):\n",
    "    plt.clf()\n",
    "    plt.figure(figsize=(6,6))\n",
    "    epochs = range(1, len(training_data) + 1)\n",
    "    plt.plot(epochs, training_data, 'g', label='Training '+graph_type)\n",
    "    plt.plot(epochs, validation_data, 'b', label='Validation '+graph_type)\n",
    "    plt.title('Training and validation '+graph_type)\n",
    "    plt.xlabel('Epochs')\n",
    "    plt.ylabel(graph_type)\n",
    "    plt.legend()\n",
    "    plt.show()\n"
   ]
  },
  {
   "cell_type": "code",
   "execution_count": 431,
   "metadata": {},
   "outputs": [
    {
     "data": {
      "text/plain": [
       "<Figure size 432x288 with 0 Axes>"
      ]
     },
     "metadata": {},
     "output_type": "display_data"
    },
    {
     "data": {
      "image/png": "[encoded data removed]",
      "text/plain": [
       "<Figure size 432x432 with 1 Axes>"
      ]
     },
     "metadata": {
      "needs_background": "light"
     },
     "output_type": "display_data"
    },
    {
     "data": {
      "text/plain": [
       "<Figure size 432x288 with 0 Axes>"
      ]
     },
     "metadata": {},
     "output_type": "display_data"
    },
    {
     "data": {
      "image/png": "[encoded data removed]",
      "text/plain": [
       "<Figure size 432x432 with 1 Axes>"
      ]
     },
     "metadata": {
      "needs_background": "light"
     },
     "output_type": "display_data"
    }
   ],
   "source": [
    "plot_graph(history3.history['val_loss'], history3.history['loss'], 'Loss')\n",
    "plot_graph(history3.history['val_accuracy'], history3.history['accuracy'], 'Accuracy') "
   ]
  },
  {
   "cell_type": "code",
   "execution_count": 432,
   "metadata": {},
   "outputs": [
    {
     "data": {
      "text/plain": [
       "array([[0.17229646],\n",
       "       [0.16871145],\n",
       "       [0.16672364],\n",
       "       [0.17758182],\n",
       "       [0.1912491 ],\n",
       "       [0.19125044],\n",
       "       [0.17710793],\n",
       "       [0.22448537],\n",
       "       [0.18711719],\n",
       "       [0.21357605],\n",
       "       [0.1745733 ],\n",
       "       [0.19299784],\n",
       "       [0.54302645],\n",
       "       [0.18207231],\n",
       "       [0.33817732],\n",
       "       [0.23093057],\n",
       "       [0.17719394],\n",
       "       [0.18043372],\n",
       "       [0.17879325],\n",
       "       [0.16985777],\n",
       "       [0.30079913],\n",
       "       [0.18737045],\n",
       "       [0.23676997],\n",
       "       [0.41521895],\n",
       "       [0.715878  ],\n",
       "       [0.17154229],\n",
       "       [0.43252552],\n",
       "       [0.17915294],\n",
       "       [0.2084811 ],\n",
       "       [0.19387385],\n",
       "       [0.18739527],\n",
       "       [0.23254013],\n",
       "       [0.19616002],\n",
       "       [0.20629653],\n",
       "       [0.3449954 ],\n",
       "       [0.18264946],\n",
       "       [0.17730808],\n",
       "       [0.18594256],\n",
       "       [0.18006602],\n",
       "       [0.33316648],\n",
       "       [0.17605281],\n",
       "       [0.21029356],\n",
       "       [0.16974068],\n",
       "       [0.1849105 ],\n",
       "       [0.29013008],\n",
       "       [0.1780591 ],\n",
       "       [0.20123908],\n",
       "       [0.17441067],\n",
       "       [0.3906203 ],\n",
       "       [0.18513349],\n",
       "       [0.37659007],\n",
       "       [0.18718159],\n",
       "       [0.21931121],\n",
       "       [0.7211525 ],\n",
       "       [0.18498707],\n",
       "       [0.25040907],\n",
       "       [0.17212906],\n",
       "       [0.17771822],\n",
       "       [0.18420434],\n",
       "       [0.7216612 ],\n",
       "       [0.18498394],\n",
       "       [0.18044648],\n",
       "       [0.18375963],\n",
       "       [0.18334204],\n",
       "       [0.7218365 ],\n",
       "       [0.1998381 ],\n",
       "       [0.18759656],\n",
       "       [0.2366358 ],\n",
       "       [0.21350482],\n",
       "       [0.71370983],\n",
       "       [0.18156102],\n",
       "       [0.1811783 ],\n",
       "       [0.17792052],\n",
       "       [0.2146276 ],\n",
       "       [0.7244805 ],\n",
       "       [0.723585  ],\n",
       "       [0.1747176 ],\n",
       "       [0.18617979],\n",
       "       [0.18119663],\n",
       "       [0.18152156],\n",
       "       [0.21626595],\n",
       "       [0.70635486],\n",
       "       [0.18828094],\n",
       "       [0.17456907],\n",
       "       [0.17806461],\n",
       "       [0.18158624],\n",
       "       [0.17927009],\n",
       "       [0.18766844],\n",
       "       [0.17684141],\n",
       "       [0.25939703],\n",
       "       [0.19216648],\n",
       "       [0.1744577 ],\n",
       "       [0.32862738],\n",
       "       [0.17472711],\n",
       "       [0.2141937 ],\n",
       "       [0.17786792],\n",
       "       [0.35493875],\n",
       "       [0.1753585 ],\n",
       "       [0.18521836],\n",
       "       [0.17325914],\n",
       "       [0.2964012 ],\n",
       "       [0.20802495],\n",
       "       [0.17444459],\n",
       "       [0.17714229],\n",
       "       [0.19007692],\n",
       "       [0.19859576],\n",
       "       [0.18100175],\n",
       "       [0.17445031],\n",
       "       [0.17539304],\n",
       "       [0.19200906],\n",
       "       [0.17628258],\n",
       "       [0.17684066],\n",
       "       [0.22010174],\n",
       "       [0.18576634],\n",
       "       [0.7133111 ],\n",
       "       [0.19319063],\n",
       "       [0.17326176],\n",
       "       [0.24177426],\n",
       "       [0.40972504],\n",
       "       [0.21055713],\n",
       "       [0.21334803],\n",
       "       [0.17395017],\n",
       "       [0.32330918],\n",
       "       [0.17531931],\n",
       "       [0.17447248],\n",
       "       [0.2043846 ],\n",
       "       [0.1801264 ],\n",
       "       [0.19959533],\n",
       "       [0.17371246],\n",
       "       [0.17888558],\n",
       "       [0.17381534],\n",
       "       [0.18884003],\n",
       "       [0.21042073],\n",
       "       [0.17281872],\n",
       "       [0.1692625 ],\n",
       "       [0.17866021],\n",
       "       [0.17625332],\n",
       "       [0.18416685],\n",
       "       [0.18253523],\n",
       "       [0.25503564],\n",
       "       [0.32941493],\n",
       "       [0.69851255],\n",
       "       [0.7143669 ],\n",
       "       [0.20641324],\n",
       "       [0.1933749 ],\n",
       "       [0.18424004],\n",
       "       [0.2970749 ],\n",
       "       [0.18041572],\n",
       "       [0.20577648],\n",
       "       [0.20326033],\n",
       "       [0.50754786],\n",
       "       [0.17465162],\n",
       "       [0.16657543],\n",
       "       [0.17908177],\n",
       "       [0.24387056],\n",
       "       [0.17832643],\n",
       "       [0.72519815],\n",
       "       [0.18221885],\n",
       "       [0.19302884],\n",
       "       [0.18915328],\n",
       "       [0.17676324],\n",
       "       [0.21086085],\n",
       "       [0.18813366],\n",
       "       [0.17386699],\n",
       "       [0.17411104],\n",
       "       [0.20285556],\n",
       "       [0.25285262],\n",
       "       [0.24577844],\n",
       "       [0.21389058],\n",
       "       [0.18449223],\n",
       "       [0.17437267],\n",
       "       [0.17599505],\n",
       "       [0.18648499],\n",
       "       [0.17409343],\n",
       "       [0.20624301],\n",
       "       [0.2940964 ],\n",
       "       [0.2648363 ],\n",
       "       [0.25860995],\n",
       "       [0.23993784],\n",
       "       [0.3803618 ],\n",
       "       [0.1807572 ],\n",
       "       [0.42380083],\n",
       "       [0.34867126],\n",
       "       [0.1745817 ],\n",
       "       [0.72606796],\n",
       "       [0.177571  ],\n",
       "       [0.2091229 ],\n",
       "       [0.1831784 ],\n",
       "       [0.3448556 ],\n",
       "       [0.17456782],\n",
       "       [0.19697505],\n",
       "       [0.20309895],\n",
       "       [0.2008219 ],\n",
       "       [0.16775218],\n",
       "       [0.27391705],\n",
       "       [0.17326745],\n",
       "       [0.6841548 ],\n",
       "       [0.18643105],\n",
       "       [0.1830923 ],\n",
       "       [0.1771509 ],\n",
       "       [0.18622056],\n",
       "       [0.22422764],\n",
       "       [0.71985483],\n",
       "       [0.2519667 ],\n",
       "       [0.18146622],\n",
       "       [0.20212969],\n",
       "       [0.17413932],\n",
       "       [0.18225062],\n",
       "       [0.20851278],\n",
       "       [0.1780541 ],\n",
       "       [0.19222787],\n",
       "       [0.17404011],\n",
       "       [0.4420209 ],\n",
       "       [0.18071285],\n",
       "       [0.17217436],\n",
       "       [0.23044804],\n",
       "       [0.1769276 ],\n",
       "       [0.65815175],\n",
       "       [0.7155222 ],\n",
       "       [0.174936  ],\n",
       "       [0.18386358],\n",
       "       [0.18116707],\n",
       "       [0.18694317],\n",
       "       [0.18087599],\n",
       "       [0.18842372],\n",
       "       [0.1869222 ],\n",
       "       [0.17937982],\n",
       "       [0.17681116],\n",
       "       [0.17584357],\n",
       "       [0.17670926],\n",
       "       [0.40576684],\n",
       "       [0.22286814],\n",
       "       [0.1788497 ],\n",
       "       [0.17482102],\n",
       "       [0.34133023],\n",
       "       [0.18172425],\n",
       "       [0.31049725],\n",
       "       [0.18100739],\n",
       "       [0.1943543 ],\n",
       "       [0.50772953],\n",
       "       [0.18715495],\n",
       "       [0.20047483],\n",
       "       [0.6104676 ],\n",
       "       [0.17485607],\n",
       "       [0.19537759],\n",
       "       [0.25798056],\n",
       "       [0.20505509],\n",
       "       [0.20169419],\n",
       "       [0.20576927],\n",
       "       [0.18372115],\n",
       "       [0.28100112],\n",
       "       [0.18179992],\n",
       "       [0.6547317 ],\n",
       "       [0.18033558],\n",
       "       [0.17506593],\n",
       "       [0.1746004 ],\n",
       "       [0.17477483],\n",
       "       [0.1763652 ],\n",
       "       [0.19334838],\n",
       "       [0.180863  ],\n",
       "       [0.18010694],\n",
       "       [0.18095109],\n",
       "       [0.20152813],\n",
       "       [0.2179906 ],\n",
       "       [0.18029007],\n",
       "       [0.17492765],\n",
       "       [0.1697472 ],\n",
       "       [0.17463842],\n",
       "       [0.17714772],\n",
       "       [0.18512204],\n",
       "       [0.3385445 ],\n",
       "       [0.1748212 ],\n",
       "       [0.66260815],\n",
       "       [0.18497851],\n",
       "       [0.17438921],\n",
       "       [0.2178405 ],\n",
       "       [0.17924261],\n",
       "       [0.18991968],\n",
       "       [0.19054997],\n",
       "       [0.18369442],\n",
       "       [0.18291175],\n",
       "       [0.21526355],\n",
       "       [0.17688665],\n",
       "       [0.20899963],\n",
       "       [0.23958448],\n",
       "       [0.1717337 ],\n",
       "       [0.17445174],\n",
       "       [0.43419296],\n",
       "       [0.17444164],\n",
       "       [0.17513472],\n",
       "       [0.23424059],\n",
       "       [0.17633674],\n",
       "       [0.17445591],\n",
       "       [0.3457244 ],\n",
       "       [0.17338473],\n",
       "       [0.17756912],\n",
       "       [0.340822  ],\n",
       "       [0.18973902],\n",
       "       [0.25401235],\n",
       "       [0.17571777],\n",
       "       [0.17402288],\n",
       "       [0.18270773],\n",
       "       [0.18164134],\n",
       "       [0.17967904],\n",
       "       [0.17692748],\n",
       "       [0.17928481],\n",
       "       [0.6701795 ],\n",
       "       [0.20577013],\n",
       "       [0.39518338],\n",
       "       [0.17419565],\n",
       "       [0.18418649],\n",
       "       [0.17962384],\n",
       "       [0.17481294],\n",
       "       [0.17337912],\n",
       "       [0.5935845 ],\n",
       "       [0.18669334],\n",
       "       [0.6012357 ],\n",
       "       [0.18605283],\n",
       "       [0.1769689 ],\n",
       "       [0.21946716],\n",
       "       [0.17752412],\n",
       "       [0.17765155],\n",
       "       [0.18343222],\n",
       "       [0.19800016],\n",
       "       [0.71740896],\n",
       "       [0.17879915],\n",
       "       [0.2772403 ],\n",
       "       [0.34454286],\n",
       "       [0.1991525 ],\n",
       "       [0.18742216],\n",
       "       [0.20931283],\n",
       "       [0.19791275],\n",
       "       [0.17460212],\n",
       "       [0.19552252],\n",
       "       [0.1770564 ],\n",
       "       [0.19973662],\n",
       "       [0.17920694],\n",
       "       [0.17146745],\n",
       "       [0.21643671],\n",
       "       [0.1746329 ],\n",
       "       [0.18680614],\n",
       "       [0.17402059],\n",
       "       [0.34452835],\n",
       "       [0.6662457 ],\n",
       "       [0.18152282],\n",
       "       [0.1873351 ],\n",
       "       [0.18338248],\n",
       "       [0.17266178],\n",
       "       [0.18549547],\n",
       "       [0.19305095],\n",
       "       [0.29051757],\n",
       "       [0.18136176],\n",
       "       [0.40348077],\n",
       "       [0.27666688],\n",
       "       [0.24195608],\n",
       "       [0.18301377],\n",
       "       [0.23098752],\n",
       "       [0.17522919],\n",
       "       [0.1751276 ],\n",
       "       [0.18487269],\n",
       "       [0.35047054],\n",
       "       [0.23840517],\n",
       "       [0.19287762],\n",
       "       [0.1778428 ],\n",
       "       [0.30556017],\n",
       "       [0.35170776],\n",
       "       [0.18092489],\n",
       "       [0.25066137],\n",
       "       [0.27495414],\n",
       "       [0.18214285],\n",
       "       [0.1848307 ],\n",
       "       [0.63244045],\n",
       "       [0.16556409],\n",
       "       [0.17288113],\n",
       "       [0.33646744],\n",
       "       [0.72493553],\n",
       "       [0.18242896],\n",
       "       [0.18540281],\n",
       "       [0.22604331],\n",
       "       [0.24784166],\n",
       "       [0.17521381],\n",
       "       [0.17780736],\n",
       "       [0.18395188],\n",
       "       [0.19489187],\n",
       "       [0.18023604],\n",
       "       [0.34368092],\n",
       "       [0.17899173],\n",
       "       [0.16894907],\n",
       "       [0.18097845],\n",
       "       [0.21600801],\n",
       "       [0.47266865],\n",
       "       [0.21013752],\n",
       "       [0.20676884],\n",
       "       [0.17033848],\n",
       "       [0.19031942],\n",
       "       [0.34381774],\n",
       "       [0.17853957],\n",
       "       [0.33381483],\n",
       "       [0.18033957],\n",
       "       [0.17488992],\n",
       "       [0.68914944],\n",
       "       [0.1834318 ],\n",
       "       [0.33177328],\n",
       "       [0.28418374],\n",
       "       [0.1893731 ],\n",
       "       [0.18889472],\n",
       "       [0.18224701],\n",
       "       [0.7046906 ],\n",
       "       [0.17716172],\n",
       "       [0.2122893 ],\n",
       "       [0.17719269],\n",
       "       [0.40874198],\n",
       "       [0.17859176],\n",
       "       [0.1755875 ],\n",
       "       [0.49801886],\n",
       "       [0.17125112],\n",
       "       [0.17559975],\n",
       "       [0.19085562]], dtype=float32)"
      ]
     },
     "execution_count": 432,
     "metadata": {},
     "output_type": "execute_result"
    }
   ],
   "source": [
    "model3.predict(x_sample)"
   ]
  },
  {
   "cell_type": "markdown",
   "metadata": {},
   "source": [
    "* NEURAL NETWORK IS NOT GOOD FOR TITANIC MODEL"
   ]
  },
  {
   "cell_type": "markdown",
   "metadata": {},
   "source": [
    "##### SUGGESTED SOLUTION \n",
    "* ADD MORE DATA TO Training data "
   ]
  },
  {
   "cell_type": "code",
   "execution_count": 433,
   "metadata": {},
   "outputs": [],
   "source": [
    "from imblearn.over_sampling import SMOTE"
   ]
  },
  {
   "cell_type": "code",
   "execution_count": 434,
   "metadata": {},
   "outputs": [],
   "source": [
    "## SMOTE\n",
    "sm = SMOTE(random_state = 2)\n",
    "x_train_res, y_train_res = sm.fit_resample(x, y.ravel())"
   ]
  },
  {
   "cell_type": "code",
   "execution_count": 435,
   "metadata": {},
   "outputs": [
    {
     "name": "stdout",
     "output_type": "stream",
     "text": [
      "Before OverSampling, counts of label '1': 342\n",
      "Before OverSampling, counts of label '0': 549 \n",
      "\n"
     ]
    }
   ],
   "source": [
    "print(\"Before OverSampling, counts of label '1': {}\".format(sum(y == 1))) \n",
    "print(\"Before OverSampling, counts of label '0': {} \\n\".format(sum(y == 0)))"
   ]
  },
  {
   "cell_type": "code",
   "execution_count": 436,
   "metadata": {},
   "outputs": [
    {
     "name": "stdout",
     "output_type": "stream",
     "text": [
      "After OverSampling, the shape of train_X: (1098, 7)\n",
      "After OverSampling, the shape of train_y: (1098,) \n",
      "\n"
     ]
    }
   ],
   "source": [
    "print('After OverSampling, the shape of train_X: {}'.format(x_train_res.shape))\n",
    "print('After OverSampling, the shape of train_y: {} \\n'.format(y_train_res.shape))"
   ]
  },
  {
   "cell_type": "code",
   "execution_count": 437,
   "metadata": {},
   "outputs": [
    {
     "name": "stdout",
     "output_type": "stream",
     "text": [
      "After OverSampling, counts of label '1': 549\n",
      "After OverSampling, counts of label '0': 549\n"
     ]
    }
   ],
   "source": [
    "print(\"After OverSampling, counts of label '1': {}\".format(sum(y_train_res == 1))) \n",
    "print(\"After OverSampling, counts of label '0': {}\".format(sum(y_train_res == 0))) "
   ]
  },
  {
   "cell_type": "markdown",
   "metadata": {},
   "source": [
    "###### FEEDING THE MODEL WITH MORE DATA\n",
    "* to improve the model accuracy "
   ]
  },
  {
   "cell_type": "code",
   "execution_count": 438,
   "metadata": {},
   "outputs": [],
   "source": [
    "model4 = Sequential()\n",
    "model4.add(Dense(units=900, activation=\"sigmoid\",input_shape=(7,)))\n",
    "model4.add(Dropout(0.2))\n",
    "model4.add(Dense(units=350, activation=\"sigmoid\"))\n",
    "model4.add(Dropout(0.2))\n",
    "model4.add(Dense(units=350, activation=\"sigmoid\"))\n",
    "model4.add(Flatten())\n",
    "model4.add(Dense(units=1, activation=\"sigmoid\"))"
   ]
  },
  {
   "cell_type": "code",
   "execution_count": 439,
   "metadata": {},
   "outputs": [],
   "source": [
    "model4.compile(loss=\"binary_crossentropy\",optimizer=\"Adam\", metrics=[\"accuracy\"])"
   ]
  },
  {
   "cell_type": "code",
   "execution_count": 440,
   "metadata": {},
   "outputs": [
    {
     "name": "stdout",
     "output_type": "stream",
     "text": [
      "Epoch 1/10\n",
      "35/35 [==============================] - 5s 44ms/step - loss: 0.7007 - accuracy: 0.5228 - val_loss: 0.6392 - val_accuracy: 0.6034\n",
      "Epoch 2/10\n",
      "35/35 [==============================] - 1s 19ms/step - loss: 0.6685 - accuracy: 0.5820 - val_loss: 0.6156 - val_accuracy: 0.7263\n",
      "Epoch 3/10\n",
      "35/35 [==============================] - 1s 17ms/step - loss: 0.6344 - accuracy: 0.6503 - val_loss: 0.7406 - val_accuracy: 0.4302\n",
      "Epoch 4/10\n",
      "35/35 [==============================] - 1s 18ms/step - loss: 0.6365 - accuracy: 0.6521 - val_loss: 0.5581 - val_accuracy: 0.7486\n",
      "Epoch 5/10\n",
      "35/35 [==============================] - 1s 16ms/step - loss: 0.6309 - accuracy: 0.6403 - val_loss: 0.5791 - val_accuracy: 0.7263\n",
      "Epoch 6/10\n",
      "35/35 [==============================] - 1s 16ms/step - loss: 0.6200 - accuracy: 0.6639 - val_loss: 0.5471 - val_accuracy: 0.7486\n",
      "Epoch 7/10\n",
      "35/35 [==============================] - 0s 13ms/step - loss: 0.6204 - accuracy: 0.6457 - val_loss: 0.5969 - val_accuracy: 0.6983\n",
      "Epoch 8/10\n",
      "35/35 [==============================] - 0s 13ms/step - loss: 0.6171 - accuracy: 0.6658 - val_loss: 0.5734 - val_accuracy: 0.7486\n",
      "Epoch 9/10\n",
      "35/35 [==============================] - 0s 12ms/step - loss: 0.5913 - accuracy: 0.6785 - val_loss: 0.7269 - val_accuracy: 0.4637\n",
      "Epoch 10/10\n",
      "35/35 [==============================] - 1s 15ms/step - loss: 0.6029 - accuracy: 0.6703 - val_loss: 0.5064 - val_accuracy: 0.7765\n"
     ]
    }
   ],
   "source": [
    "history4 = model4.fit(x_train_res,y_train_res,epochs=epoch_range,validation_data=(x_test,y_test))"
   ]
  },
  {
   "cell_type": "markdown",
   "metadata": {},
   "source": [
    "* DATA AUGEMENTATION HAS REALLY IMPROVE THE MODEL AS VALIDATION ACCURACY INCREASE DRASTICALLY"
   ]
  },
  {
   "cell_type": "code",
   "execution_count": 441,
   "metadata": {},
   "outputs": [],
   "source": [
    "acc = history4.history[\"accuracy\"]\n",
    "val_acc = history4.history[\"val_accuracy\"]\n",
    "\n",
    "loss = history4.history[\"loss\"]\n",
    "val_loss = history4.history[\"val_loss\"]"
   ]
  },
  {
   "cell_type": "code",
   "execution_count": 442,
   "metadata": {},
   "outputs": [
    {
     "data": {
      "text/plain": [
       "<Figure size 432x288 with 0 Axes>"
      ]
     },
     "metadata": {},
     "output_type": "display_data"
    },
    {
     "data": {
      "image/png": "[encoded data removed]",
      "text/plain": [
       "<Figure size 432x432 with 1 Axes>"
      ]
     },
     "metadata": {
      "needs_background": "light"
     },
     "output_type": "display_data"
    },
    {
     "data": {
      "text/plain": [
       "<Figure size 432x288 with 0 Axes>"
      ]
     },
     "metadata": {},
     "output_type": "display_data"
    },
    {
     "data": {
      "image/png": "[encoded data removed]",
      "text/plain": [
       "<Figure size 432x432 with 1 Axes>"
      ]
     },
     "metadata": {
      "needs_background": "light"
     },
     "output_type": "display_data"
    }
   ],
   "source": [
    "plot_graph(history4.history['val_loss'], history4.history['loss'], 'Loss')\n",
    "plot_graph(history4.history['val_accuracy'], history4.history['accuracy'], 'Accuracy')"
   ]
  },
  {
   "cell_type": "code",
   "execution_count": 447,
   "metadata": {},
   "outputs": [
    {
     "data": {
      "text/plain": [
       "array([[0.21555698],\n",
       "       [0.2037273 ],\n",
       "       [0.20605046],\n",
       "       [0.23854575],\n",
       "       [0.30171514],\n",
       "       [0.30100963],\n",
       "       [0.25094855],\n",
       "       [0.46336862],\n",
       "       [0.30226284],\n",
       "       [0.38020533],\n",
       "       [0.22473606],\n",
       "       [0.36406314],\n",
       "       [0.90613663],\n",
       "       [0.30519462],\n",
       "       [0.79893315],\n",
       "       [0.5351507 ],\n",
       "       [0.24557811],\n",
       "       [0.25001696],\n",
       "       [0.24539712],\n",
       "       [0.21514833],\n",
       "       [0.71439   ],\n",
       "       [0.27323514],\n",
       "       [0.61068135],\n",
       "       [0.8533741 ],\n",
       "       [0.9205837 ],\n",
       "       [0.21848264],\n",
       "       [0.8728746 ],\n",
       "       [0.24413571],\n",
       "       [0.44696254],\n",
       "       [0.298334  ],\n",
       "       [0.31484044],\n",
       "       [0.48015347],\n",
       "       [0.33640075],\n",
       "       [0.3896197 ],\n",
       "       [0.7979872 ],\n",
       "       [0.2602738 ],\n",
       "       [0.2516825 ],\n",
       "       [0.29794657],\n",
       "       [0.24986371],\n",
       "       [0.7977849 ],\n",
       "       [0.23511237],\n",
       "       [0.44648919],\n",
       "       [0.20416293],\n",
       "       [0.3042215 ],\n",
       "       [0.7425738 ],\n",
       "       [0.23939615],\n",
       "       [0.41034478],\n",
       "       [0.22305384],\n",
       "       [0.83619684],\n",
       "       [0.29332823],\n",
       "       [0.8243562 ],\n",
       "       [0.2954678 ],\n",
       "       [0.432185  ],\n",
       "       [0.9222121 ],\n",
       "       [0.28610456],\n",
       "       [0.44826174],\n",
       "       [0.21326843],\n",
       "       [0.23753992],\n",
       "       [0.2631467 ],\n",
       "       [0.92517877],\n",
       "       [0.2718913 ],\n",
       "       [0.26045358],\n",
       "       [0.26597315],\n",
       "       [0.28298932],\n",
       "       [0.92237645],\n",
       "       [0.40648887],\n",
       "       [0.30622816],\n",
       "       [0.5876266 ],\n",
       "       [0.46771756],\n",
       "       [0.92191994],\n",
       "       [0.27330083],\n",
       "       [0.2537267 ],\n",
       "       [0.25388336],\n",
       "       [0.47140858],\n",
       "       [0.93007714],\n",
       "       [0.9291971 ],\n",
       "       [0.22400922],\n",
       "       [0.31801605],\n",
       "       [0.2624861 ],\n",
       "       [0.2730149 ],\n",
       "       [0.3849063 ],\n",
       "       [0.9240532 ],\n",
       "       [0.33779126],\n",
       "       [0.2231026 ],\n",
       "       [0.24441361],\n",
       "       [0.24876958],\n",
       "       [0.26080036],\n",
       "       [0.30710262],\n",
       "       [0.24765432],\n",
       "       [0.54006433],\n",
       "       [0.31756672],\n",
       "       [0.22237182],\n",
       "       [0.7827238 ],\n",
       "       [0.22371134],\n",
       "       [0.4653302 ],\n",
       "       [0.2378923 ],\n",
       "       [0.7745    ],\n",
       "       [0.2263884 ],\n",
       "       [0.29351622],\n",
       "       [0.2171225 ],\n",
       "       [0.7629312 ],\n",
       "       [0.39915094],\n",
       "       [0.22208816],\n",
       "       [0.23440593],\n",
       "       [0.29268134],\n",
       "       [0.36485994],\n",
       "       [0.25285038],\n",
       "       [0.2220203 ],\n",
       "       [0.22686866],\n",
       "       [0.31660545],\n",
       "       [0.24383798],\n",
       "       [0.24717337],\n",
       "       [0.54367197],\n",
       "       [0.2963345 ],\n",
       "       [0.92724836],\n",
       "       [0.2998301 ],\n",
       "       [0.21592033],\n",
       "       [0.50204015],\n",
       "       [0.8660563 ],\n",
       "       [0.44573075],\n",
       "       [0.45668155],\n",
       "       [0.21064034],\n",
       "       [0.80188   ],\n",
       "       [0.225476  ],\n",
       "       [0.22181243],\n",
       "       [0.4025611 ],\n",
       "       [0.24853978],\n",
       "       [0.35146427],\n",
       "       [0.22770315],\n",
       "       [0.24255294],\n",
       "       [0.21891594],\n",
       "       [0.3451983 ],\n",
       "       [0.42476964],\n",
       "       [0.20553768],\n",
       "       [0.19930527],\n",
       "       [0.24135742],\n",
       "       [0.22965595],\n",
       "       [0.27606505],\n",
       "       [0.2785963 ],\n",
       "       [0.5574047 ],\n",
       "       [0.6722386 ],\n",
       "       [0.9302127 ],\n",
       "       [0.92428374],\n",
       "       [0.42102596],\n",
       "       [0.35816967],\n",
       "       [0.23925543],\n",
       "       [0.7593099 ],\n",
       "       [0.25000912],\n",
       "       [0.42524463],\n",
       "       [0.36820734],\n",
       "       [0.9028815 ],\n",
       "       [0.22223812],\n",
       "       [0.19376746],\n",
       "       [0.2523846 ],\n",
       "       [0.43942454],\n",
       "       [0.23952639],\n",
       "       [0.9306879 ],\n",
       "       [0.27663434],\n",
       "       [0.35574225],\n",
       "       [0.3069287 ],\n",
       "       [0.24574283],\n",
       "       [0.37176263],\n",
       "       [0.3214668 ],\n",
       "       [0.21808851],\n",
       "       [0.2278904 ],\n",
       "       [0.3822714 ],\n",
       "       [0.6594374 ],\n",
       "       [0.5150465 ],\n",
       "       [0.50749004],\n",
       "       [0.29052854],\n",
       "       [0.22050062],\n",
       "       [0.22803083],\n",
       "       [0.268543  ],\n",
       "       [0.21905124],\n",
       "       [0.35475963],\n",
       "       [0.7293122 ],\n",
       "       [0.694834  ],\n",
       "       [0.6500058 ],\n",
       "       [0.5987754 ],\n",
       "       [0.8309603 ],\n",
       "       [0.25818336],\n",
       "       [0.86453366],\n",
       "       [0.8105806 ],\n",
       "       [0.22134405],\n",
       "       [0.9298326 ],\n",
       "       [0.248119  ],\n",
       "       [0.44847596],\n",
       "       [0.23752475],\n",
       "       [0.67583865],\n",
       "       [0.22894076],\n",
       "       [0.34560138],\n",
       "       [0.40998763],\n",
       "       [0.33125812],\n",
       "       [0.20218876],\n",
       "       [0.641021  ],\n",
       "       [0.21511877],\n",
       "       [0.92737603],\n",
       "       [0.3016827 ],\n",
       "       [0.2681303 ],\n",
       "       [0.24742272],\n",
       "       [0.30814785],\n",
       "       [0.43484277],\n",
       "       [0.9287604 ],\n",
       "       [0.58238626],\n",
       "       [0.25944665],\n",
       "       [0.40415207],\n",
       "       [0.23050016],\n",
       "       [0.26361495],\n",
       "       [0.47845122],\n",
       "       [0.23788548],\n",
       "       [0.3301194 ],\n",
       "       [0.21819866],\n",
       "       [0.87111187],\n",
       "       [0.29786655],\n",
       "       [0.18783584],\n",
       "       [0.573457  ],\n",
       "       [0.24575397],\n",
       "       [0.92173445],\n",
       "       [0.9289896 ],\n",
       "       [0.22258303],\n",
       "       [0.27795273],\n",
       "       [0.2539599 ],\n",
       "       [0.310885  ],\n",
       "       [0.25241655],\n",
       "       [0.35887143],\n",
       "       [0.29629928],\n",
       "       [0.24456683],\n",
       "       [0.24485591],\n",
       "       [0.23387548],\n",
       "       [0.23740828],\n",
       "       [0.8479136 ],\n",
       "       [0.5475192 ],\n",
       "       [0.23036227],\n",
       "       [0.22179174],\n",
       "       [0.81463456],\n",
       "       [0.25700533],\n",
       "       [0.7552675 ],\n",
       "       [0.2531981 ],\n",
       "       [0.32794198],\n",
       "       [0.90135884],\n",
       "       [0.35202277],\n",
       "       [0.4033085 ],\n",
       "       [0.91676754],\n",
       "       [0.22182634],\n",
       "       [0.31353784],\n",
       "       [0.6555232 ],\n",
       "       [0.4389283 ],\n",
       "       [0.3726291 ],\n",
       "       [0.42420223],\n",
       "       [0.2737308 ],\n",
       "       [0.63503027],\n",
       "       [0.25750983],\n",
       "       [0.92427945],\n",
       "       [0.24968523],\n",
       "       [0.22326374],\n",
       "       [0.22037077],\n",
       "       [0.22123507],\n",
       "       [0.22905478],\n",
       "       [0.35413402],\n",
       "       [0.25245258],\n",
       "       [0.24346605],\n",
       "       [0.25293183],\n",
       "       [0.4021197 ],\n",
       "       [0.42609122],\n",
       "       [0.25420588],\n",
       "       [0.22188675],\n",
       "       [0.20210782],\n",
       "       [0.22040176],\n",
       "       [0.24626333],\n",
       "       [0.27628642],\n",
       "       [0.8285259 ],\n",
       "       [0.22126871],\n",
       "       [0.9263704 ],\n",
       "       [0.28155616],\n",
       "       [0.2190674 ],\n",
       "       [0.48708162],\n",
       "       [0.24717486],\n",
       "       [0.30889904],\n",
       "       [0.30247155],\n",
       "       [0.27187574],\n",
       "       [0.28112394],\n",
       "       [0.3927533 ],\n",
       "       [0.24444792],\n",
       "       [0.40269747],\n",
       "       [0.5192831 ],\n",
       "       [0.2063295 ],\n",
       "       [0.21922773],\n",
       "       [0.87112194],\n",
       "       [0.21915296],\n",
       "       [0.22262448],\n",
       "       [0.5940911 ],\n",
       "       [0.2409496 ],\n",
       "       [0.21917507],\n",
       "       [0.811789  ],\n",
       "       [0.21471739],\n",
       "       [0.23483199],\n",
       "       [0.75776553],\n",
       "       [0.27858043],\n",
       "       [0.6686857 ],\n",
       "       [0.22536966],\n",
       "       [0.21703771],\n",
       "       [0.26884818],\n",
       "       [0.26800066],\n",
       "       [0.2459923 ],\n",
       "       [0.24437311],\n",
       "       [0.28599402],\n",
       "       [0.92577565],\n",
       "       [0.37407103],\n",
       "       [0.84598815],\n",
       "       [0.22575688],\n",
       "       [0.27157807],\n",
       "       [0.2458466 ],\n",
       "       [0.2207166 ],\n",
       "       [0.22408876],\n",
       "       [0.9190898 ],\n",
       "       [0.30559176],\n",
       "       [0.91558087],\n",
       "       [0.2863044 ],\n",
       "       [0.23155284],\n",
       "       [0.4471308 ],\n",
       "       [0.2344378 ],\n",
       "       [0.23516443],\n",
       "       [0.2713896 ],\n",
       "       [0.38212165],\n",
       "       [0.9318954 ],\n",
       "       [0.24135503],\n",
       "       [0.66357917],\n",
       "       [0.83731335],\n",
       "       [0.3591416 ],\n",
       "       [0.2955858 ],\n",
       "       [0.46124864],\n",
       "       [0.3857047 ],\n",
       "       [0.21943784],\n",
       "       [0.33748117],\n",
       "       [0.23188394],\n",
       "       [0.39278004],\n",
       "       [0.24766278],\n",
       "       [0.19821301],\n",
       "       [0.49399626],\n",
       "       [0.21951407],\n",
       "       [0.29138035],\n",
       "       [0.21648338],\n",
       "       [0.7473944 ],\n",
       "       [0.88275015],\n",
       "       [0.23987138],\n",
       "       [0.3104501 ],\n",
       "       [0.2711016 ],\n",
       "       [0.21925718],\n",
       "       [0.2841203 ],\n",
       "       [0.36437973],\n",
       "       [0.7835348 ],\n",
       "       [0.25859478],\n",
       "       [0.85438156],\n",
       "       [0.6999452 ],\n",
       "       [0.52097434],\n",
       "       [0.29400742],\n",
       "       [0.55315894],\n",
       "       [0.2223086 ],\n",
       "       [0.22178483],\n",
       "       [0.2802533 ],\n",
       "       [0.6756862 ],\n",
       "       [0.5928356 ],\n",
       "       [0.36323142],\n",
       "       [0.23580444],\n",
       "       [0.77792597],\n",
       "       [0.7766372 ],\n",
       "       [0.24177837],\n",
       "       [0.6675483 ],\n",
       "       [0.753407  ],\n",
       "       [0.26412952],\n",
       "       [0.26441795],\n",
       "       [0.9252606 ],\n",
       "       [0.17880413],\n",
       "       [0.21598926],\n",
       "       [0.82612836],\n",
       "       [0.93083143],\n",
       "       [0.2494801 ],\n",
       "       [0.28343657],\n",
       "       [0.55893546],\n",
       "       [0.46713054],\n",
       "       [0.22199294],\n",
       "       [0.23557913],\n",
       "       [0.2903769 ],\n",
       "       [0.34403783],\n",
       "       [0.25261927],\n",
       "       [0.8104522 ],\n",
       "       [0.24212617],\n",
       "       [0.19879228],\n",
       "       [0.2535907 ],\n",
       "       [0.37295288],\n",
       "       [0.8920411 ],\n",
       "       [0.48594856],\n",
       "       [0.39898825],\n",
       "       [0.2015787 ],\n",
       "       [0.26285926],\n",
       "       [0.81348   ],\n",
       "       [0.23969817],\n",
       "       [0.82740545],\n",
       "       [0.24985728],\n",
       "       [0.220159  ],\n",
       "       [0.92985094],\n",
       "       [0.2641196 ],\n",
       "       [0.81391835],\n",
       "       [0.72929466],\n",
       "       [0.3104806 ],\n",
       "       [0.30704302],\n",
       "       [0.25047028],\n",
       "       [0.9297203 ],\n",
       "       [0.2444393 ],\n",
       "       [0.41989577],\n",
       "       [0.24460492],\n",
       "       [0.87765324],\n",
       "       [0.25323847],\n",
       "       [0.22356796],\n",
       "       [0.90866846],\n",
       "       [0.20217276],\n",
       "       [0.2236023 ],\n",
       "       [0.29603413]], dtype=float32)"
      ]
     },
     "execution_count": 447,
     "metadata": {},
     "output_type": "execute_result"
    }
   ],
   "source": [
    "predicts=model4.predict(x_sample)\n",
    "predicts"
   ]
  },
  {
   "cell_type": "code",
   "execution_count": 448,
   "metadata": {},
   "outputs": [],
   "source": [
    "survived = [x for x in predicts if x >= 0.5]"
   ]
  },
  {
   "cell_type": "code",
   "execution_count": 449,
   "metadata": {},
   "outputs": [
    {
     "data": {
      "text/plain": [
       "108"
      ]
     },
     "execution_count": 449,
     "metadata": {},
     "output_type": "execute_result"
    }
   ],
   "source": [
    "len(survived)"
   ]
  },
  {
   "cell_type": "code",
   "execution_count": 450,
   "metadata": {},
   "outputs": [],
   "source": [
    "not_survived = [x for x in predicts if x < 0.5]"
   ]
  },
  {
   "cell_type": "code",
   "execution_count": 451,
   "metadata": {},
   "outputs": [
    {
     "data": {
      "text/plain": [
       "310"
      ]
     },
     "execution_count": 451,
     "metadata": {},
     "output_type": "execute_result"
    }
   ],
   "source": [
    "len(not_survived)"
   ]
  },
  {
   "cell_type": "markdown",
   "metadata": {},
   "source": [
    "### Finally i can say neural network does not work perfectly for titnaic model.\n",
    "* Reason: Not enough feature of training data to use \n",
    "* Reason: Default hyper-paramter in NNs perform so weak as compare to decision tree. \n",
    "* Check link https://datascience.stackexchange.com/questions/38328/when-does-decision-tree-perform-better-than-the-neural-network"
   ]
  },
  {
   "cell_type": "code",
   "execution_count": null,
   "metadata": {},
   "outputs": [],
   "source": []
  }
 ],
 "metadata": {
  "kernelspec": {
   "display_name": "Python 3",
   "language": "python",
   "name": "python3"
  },
  "language_info": {
   "codemirror_mode": {
    "name": "ipython",
    "version": 3
   },
   "file_extension": ".py",
   "mimetype": "text/x-python",
   "name": "python",
   "nbconvert_exporter": "python",
   "pygments_lexer": "ipython3",
   "version": "3.7.6"
  }
 },
 "nbformat": 4,
 "nbformat_minor": 4
}
